{
 "cells": [
  {
   "cell_type": "markdown",
   "id": "c6183546",
   "metadata": {},
   "source": [
    "# 📒 Contact Book CLI\n",
    "\n",
    "A command-line interface (CLI) project to manage your personal contacts — add, view, search, and delete them with ease.\n",
    "\n",
    "**📂 Storage:** JSON\n",
    "\n",
    "**💻 Interface:** Simple Menu-Driven CLI  \n",
    "\n",
    "**🛠️ Functions:** Add | View | Search | Delete | Exit\n"
   ]
  },
  {
   "cell_type": "code",
   "execution_count": 1,
   "id": "8b2d1671",
   "metadata": {},
   "outputs": [],
   "source": [
    "import os \n",
    "import json "
   ]
  },
  {
   "cell_type": "code",
   "execution_count": 2,
   "id": "abfa52c3",
   "metadata": {},
   "outputs": [],
   "source": [
    "# Contacts file \n",
    "contact_file = \"contacts.json\""
   ]
  },
  {
   "cell_type": "code",
   "execution_count": 3,
   "id": "967c60ff",
   "metadata": {},
   "outputs": [],
   "source": [
    "# loads contacts from json file \n",
    "def load_contacts():\n",
    "    if not os.path.exists(contact_file):\n",
    "        return {}\n",
    "    with open(\"conatct_file\", \"r\") as f:\n",
    "        return json.load(f)"
   ]
  },
  {
   "cell_type": "code",
   "execution_count": 4,
   "id": "d0d47a2a",
   "metadata": {},
   "outputs": [],
   "source": [
    "# save contacts to json file \n",
    "def save_contact(contacts):\n",
    "    with open(\"contact_file\",\"w\") as f:\n",
    "        json.dump(contacts , f , indent=4)"
   ]
  },
  {
   "cell_type": "code",
   "execution_count": 5,
   "id": "e3674a93",
   "metadata": {},
   "outputs": [],
   "source": [
    "# add contacts to the json file with name\n",
    "def add_contact(contacts):\n",
    "    name = input(\"Enter Name: \").strip()\n",
    "    if name in contacts: # if name already exists\n",
    "        print(\"Name already exists\")\n",
    "        return \n",
    "    \n",
    "    number = input(\"Enter number : \").strip()\n",
    "    with open(\"contact_file\", \"w\") as f:\n",
    "        contacts[name] = number \n",
    "        save_contact(contacts)\n",
    "        print(f\"{name} added successfully!\")"
   ]
  },
  {
   "cell_type": "code",
   "execution_count": 6,
   "id": "a3a81d25",
   "metadata": {},
   "outputs": [],
   "source": [
    "# View contact \n",
    "def view_contacts(contacts):\n",
    "    if not contacts:\n",
    "        print(\"No contacts found.\")\n",
    "        return\n",
    "    print(\"------- Contact list -------\")\n",
    "    for name, number in contacts.items():\n",
    "        print(f\" {name} : {number} \")\n",
    "    print(\"---------------------\\n\")\n",
    "    \n",
    "    "
   ]
  },
  {
   "cell_type": "code",
   "execution_count": 7,
   "id": "f9e9a89e",
   "metadata": {},
   "outputs": [],
   "source": [
    "# Search a contact\n",
    "def search_contact(contacts):\n",
    "    name = input(\"Enter name to search: \").strip()\n",
    "    if name in contacts:\n",
    "        print(f\"{name}: {contacts[name]}\")\n",
    "    else:\n",
    "        print(\"Contact not found.\")"
   ]
  },
  {
   "cell_type": "code",
   "execution_count": 8,
   "id": "3132b7e7",
   "metadata": {},
   "outputs": [],
   "source": [
    "# Delete a contact\n",
    "def delete_contact(contacts):\n",
    "    name = input(\"Enter name to delete: \").strip()\n",
    "    if name in contacts:\n",
    "        confirm = input(f\"Are you sure you want to delete {name}? (y/n): \").lower()\n",
    "        if confirm == 'y':\n",
    "            del contacts[name]\n",
    "            save_contact(contacts)\n",
    "            print(f\"{name} deleted successfully.\")\n",
    "    else:\n",
    "        print(\"Contact not found.\")"
   ]
  },
  {
   "cell_type": "code",
   "execution_count": 10,
   "id": "a99b4e2f",
   "metadata": {},
   "outputs": [
    {
     "name": "stdout",
     "output_type": "stream",
     "text": [
      "\n",
      "------ Contact Book ------\n",
      "1. Add Contact\n",
      "2. View Contacts\n",
      "3. Search Contact\n",
      "4. Delete Contact\n",
      "5. Exit\n",
      "--------------------------\n",
      "Enter your choice (1-5): 1\n",
      "Enter Name: Fazal haq\n",
      "Enter number : 03457777777\n",
      "Fazal haq added successfully!\n",
      "\n",
      "------ Contact Book ------\n",
      "1. Add Contact\n",
      "2. View Contacts\n",
      "3. Search Contact\n",
      "4. Delete Contact\n",
      "5. Exit\n",
      "--------------------------\n",
      "Enter your choice (1-5): 1\n",
      "Enter Name: ahmad\n",
      "Enter number : 0354262626\n",
      "ahmad added successfully!\n",
      "\n",
      "------ Contact Book ------\n",
      "1. Add Contact\n",
      "2. View Contacts\n",
      "3. Search Contact\n",
      "4. Delete Contact\n",
      "5. Exit\n",
      "--------------------------\n",
      "Enter your choice (1-5): 2\n",
      "------- Contact list -------\n",
      " Fazal haq : 03457777777 \n",
      " ahmad : 0354262626 \n",
      "---------------------\n",
      "\n",
      "\n",
      "------ Contact Book ------\n",
      "1. Add Contact\n",
      "2. View Contacts\n",
      "3. Search Contact\n",
      "4. Delete Contact\n",
      "5. Exit\n",
      "--------------------------\n",
      "Enter your choice (1-5): 3\n",
      "Enter name to search: Fazal haq\n",
      "Fazal haq: 03457777777\n",
      "\n",
      "------ Contact Book ------\n",
      "1. Add Contact\n",
      "2. View Contacts\n",
      "3. Search Contact\n",
      "4. Delete Contact\n",
      "5. Exit\n",
      "--------------------------\n",
      "Enter your choice (1-5): 4\n",
      "Enter name to delete: ahmad\n",
      "Are you sure you want to delete ahmad? (y/n): y\n",
      "ahmad deleted successfully.\n",
      "\n",
      "------ Contact Book ------\n",
      "1. Add Contact\n",
      "2. View Contacts\n",
      "3. Search Contact\n",
      "4. Delete Contact\n",
      "5. Exit\n",
      "--------------------------\n",
      "Enter your choice (1-5): 2\n",
      "------- Contact list -------\n",
      " Fazal haq : 03457777777 \n",
      "---------------------\n",
      "\n",
      "\n",
      "------ Contact Book ------\n",
      "1. Add Contact\n",
      "2. View Contacts\n",
      "3. Search Contact\n",
      "4. Delete Contact\n",
      "5. Exit\n",
      "--------------------------\n",
      "Enter your choice (1-5): 5\n",
      "Goodbye!\n"
     ]
    }
   ],
   "source": [
    "# Main CLI\n",
    "def main():\n",
    "    contacts = load_contacts()\n",
    "    while True:\n",
    "        print(\"\\n------ Contact Book ------\")\n",
    "        print(\"1. Add Contact\")\n",
    "        print(\"2. View Contacts\")\n",
    "        print(\"3. Search Contact\")\n",
    "        print(\"4. Delete Contact\")\n",
    "        print(\"5. Exit\")\n",
    "        print(\"--------------------------\")\n",
    "        choice = input(\"Enter your choice (1-5): \").strip()\n",
    "\n",
    "        if choice == '1':\n",
    "            add_contact(contacts)\n",
    "        elif choice == '2':\n",
    "            view_contacts(contacts)\n",
    "        elif choice == '3':\n",
    "            search_contact(contacts)\n",
    "        elif choice == '4':\n",
    "            delete_contact(contacts)\n",
    "        elif choice == '5':\n",
    "            print(\"Goodbye!\")\n",
    "            break\n",
    "        else:\n",
    "            print(\"Invalid choice. Please enter a number between 1 and 5.\")\n",
    "\n",
    "if __name__ == \"__main__\":\n",
    "    main()"
   ]
  },
  {
   "cell_type": "code",
   "execution_count": null,
   "id": "4bb0d3df",
   "metadata": {},
   "outputs": [],
   "source": []
  }
 ],
 "metadata": {
  "kernelspec": {
   "display_name": "Python 3 (ipykernel)",
   "language": "python",
   "name": "python3"
  },
  "language_info": {
   "codemirror_mode": {
    "name": "ipython",
    "version": 3
   },
   "file_extension": ".py",
   "mimetype": "text/x-python",
   "name": "python",
   "nbconvert_exporter": "python",
   "pygments_lexer": "ipython3",
   "version": "3.11.4"
  }
 },
 "nbformat": 4,
 "nbformat_minor": 5
}
