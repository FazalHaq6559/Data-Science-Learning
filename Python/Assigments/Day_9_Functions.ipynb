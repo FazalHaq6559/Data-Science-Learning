{
 "cells": [
  {
   "cell_type": "markdown",
   "id": "7085f288",
   "metadata": {},
   "source": [
    "# Python Practice Questions \n",
    "📅 **Date:** 24-07-2025 \n",
    "\n",
    "📘 **Day 9** – \n",
    "# Topic: Functions"
   ]
  },
  {
   "cell_type": "markdown",
   "id": "fb01a6d2",
   "metadata": {},
   "source": [
    "## 1. Write a function to return the maximum of three numbers.\n"
   ]
  },
  {
   "cell_type": "code",
   "execution_count": 1,
   "id": "2867ac41",
   "metadata": {},
   "outputs": [
    {
     "data": {
      "text/plain": [
       "5"
      ]
     },
     "execution_count": 1,
     "metadata": {},
     "output_type": "execute_result"
    }
   ],
   "source": [
    "def max(a,b,c):\n",
    "    if a > b and a > c:\n",
    "        return a\n",
    "    elif b > a and b > c:\n",
    "        return b\n",
    "    else: \n",
    "        return c \n",
    "num1 = 1\n",
    "num2 = 2\n",
    "num3 = 5\n",
    "max(num1,num2,num3)"
   ]
  },
  {
   "cell_type": "markdown",
   "id": "be954d25",
   "metadata": {},
   "source": [
    "### 2. Create a function that returns the factorial of a number using recursion.\n"
   ]
  },
  {
   "cell_type": "code",
   "execution_count": 5,
   "id": "2d3f4bb7",
   "metadata": {},
   "outputs": [
    {
     "data": {
      "text/plain": [
       "6"
      ]
     },
     "execution_count": 5,
     "metadata": {},
     "output_type": "execute_result"
    }
   ],
   "source": [
    "def fact(n):\n",
    "    if n == 0 or n == 1:\n",
    "        return 1\n",
    "    else:\n",
    "        return n * fact(n-1) # recursion \n",
    "fact(3)"
   ]
  },
  {
   "cell_type": "markdown",
   "id": "a42641bd",
   "metadata": {},
   "source": [
    "### 3. Write a function that checks whether a number is prime.\n"
   ]
  },
  {
   "cell_type": "code",
   "execution_count": 16,
   "id": "bb186668",
   "metadata": {},
   "outputs": [
    {
     "data": {
      "text/plain": [
       "True"
      ]
     },
     "execution_count": 16,
     "metadata": {},
     "output_type": "execute_result"
    }
   ],
   "source": [
    "def isPrime(num):\n",
    "    if num <=1:\n",
    "        return False\n",
    "    for divisor in range (2,int(num/2)+1):\n",
    "            if num % divisor == 0:\n",
    "                return False\n",
    "    return True\n",
    "isPrime(7)"
   ]
  },
  {
   "cell_type": "markdown",
   "id": "73cdef63",
   "metadata": {},
   "source": [
    "### 4. Define a function to reverse a given string.\n"
   ]
  },
  {
   "cell_type": "code",
   "execution_count": 22,
   "id": "f8c0662d",
   "metadata": {},
   "outputs": [
    {
     "data": {
      "text/plain": [
       "'JIHGFEDCBA'"
      ]
     },
     "execution_count": 22,
     "metadata": {},
     "output_type": "execute_result"
    }
   ],
   "source": [
    "def reverse(str):\n",
    "    return str[::-1]\n",
    "reverse(\"ABCDEFGHIJ\")\n",
    "        "
   ]
  },
  {
   "cell_type": "markdown",
   "id": "f3f10ffc",
   "metadata": {},
   "source": [
    "### 5. Write a function that takes a list and returns the sum of all elements.\n"
   ]
  },
  {
   "cell_type": "code",
   "execution_count": 29,
   "id": "b49d58b3",
   "metadata": {},
   "outputs": [
    {
     "data": {
      "text/plain": [
       "14"
      ]
     },
     "execution_count": 29,
     "metadata": {},
     "output_type": "execute_result"
    }
   ],
   "source": [
    "def sum(list):\n",
    "    sum = 0\n",
    "    for i in range(len(list)):\n",
    "        sum += list[i]\n",
    "    return sum\n",
    "sum([1,2,3,4,4])"
   ]
  },
  {
   "cell_type": "markdown",
   "id": "7d61bd95",
   "metadata": {},
   "source": [
    "### 6. Create a function to check if a string is a palindrome.\n"
   ]
  },
  {
   "cell_type": "code",
   "execution_count": 33,
   "id": "40f6957e",
   "metadata": {},
   "outputs": [
    {
     "data": {
      "text/plain": [
       "True"
      ]
     },
     "execution_count": 33,
     "metadata": {},
     "output_type": "execute_result"
    }
   ],
   "source": [
    "def isPalindrome(text):\n",
    "    if text == text[::-1]: # reverse\n",
    "        return True\n",
    "    else:\n",
    "        return False\n",
    "isPalindrome(\"Ma'aM\")"
   ]
  },
  {
   "cell_type": "markdown",
   "id": "b25c9484",
   "metadata": {},
   "source": [
    "### 7. Write a function to calculate the area of a circle given the radius.\n"
   ]
  },
  {
   "cell_type": "code",
   "execution_count": 36,
   "id": "78c10817",
   "metadata": {},
   "outputs": [
    {
     "data": {
      "text/plain": [
       "12.56636"
      ]
     },
     "execution_count": 36,
     "metadata": {},
     "output_type": "execute_result"
    }
   ],
   "source": [
    "# Area = pi * r^2\n",
    "def area(r):\n",
    "    return 3.14159 * r ** 2\n",
    "\n",
    "area(2)"
   ]
  },
  {
   "cell_type": "markdown",
   "id": "963a42e7",
   "metadata": {},
   "source": [
    "### 8. Create a function to return the Fibonacci sequence up to `n` terms.\n"
   ]
  },
  {
   "cell_type": "code",
   "execution_count": 65,
   "id": "92e08b2c",
   "metadata": {},
   "outputs": [
    {
     "data": {
      "text/plain": [
       "[0, 1, 1, 2, 3, 5]"
      ]
     },
     "execution_count": 65,
     "metadata": {},
     "output_type": "execute_result"
    }
   ],
   "source": [
    "def fibonacci(n):\n",
    "    sequence = []\n",
    "    a, b = 0, 1\n",
    "    for i in range(n):\n",
    "        sequence.append(a)\n",
    "        a, b = b, a + b\n",
    "    return sequence\n",
    "fibonacci(6)"
   ]
  },
  {
   "cell_type": "markdown",
   "id": "1244f873",
   "metadata": {},
   "source": [
    "### 9. Write a function that takes a list of numbers and returns only even numbers.\n"
   ]
  },
  {
   "cell_type": "code",
   "execution_count": 44,
   "id": "0cdb27ea",
   "metadata": {},
   "outputs": [
    {
     "data": {
      "text/plain": [
       "[2, 4, 6, 8, 20, 12]"
      ]
     },
     "execution_count": 44,
     "metadata": {},
     "output_type": "execute_result"
    }
   ],
   "source": [
    "def even(list):\n",
    "    even_list = []\n",
    "    for i in list:\n",
    "        if i % 2 == 0:\n",
    "            even_list.append(i)\n",
    "            \n",
    "    return even_list\n",
    "\n",
    "even([2,3,4,5,6,7,8,9,20,12,5])\n",
    "        "
   ]
  },
  {
   "cell_type": "markdown",
   "id": "ff1ccecf",
   "metadata": {},
   "source": [
    "### 10. Define a function to count the number of vowels in a given string.\n"
   ]
  },
  {
   "cell_type": "code",
   "execution_count": 52,
   "id": "70640644",
   "metadata": {},
   "outputs": [
    {
     "data": {
      "text/plain": [
       "5"
      ]
     },
     "execution_count": 52,
     "metadata": {},
     "output_type": "execute_result"
    }
   ],
   "source": [
    "def vowelCount(str):\n",
    "    sum = 0\n",
    "    for char in str.lower():\n",
    "        if char.lower() in 'aeiou':\n",
    "            sum += 1\n",
    "    return sum \n",
    "vowelCount('fazloescobar')"
   ]
  },
  {
   "cell_type": "markdown",
   "id": "50937826",
   "metadata": {},
   "source": [
    "### 11. Write a function to find the GCD (Greatest Common Divisor) of two numbers.\n"
   ]
  },
  {
   "cell_type": "code",
   "execution_count": 54,
   "id": "af9b6f48",
   "metadata": {},
   "outputs": [
    {
     "data": {
      "text/plain": [
       "10"
      ]
     },
     "execution_count": 54,
     "metadata": {},
     "output_type": "execute_result"
    }
   ],
   "source": [
    "#The GCD of two numbers is the largest number that divides both of them exactly.\n",
    "#GCD(a,b)=GCD(b,amodb)\n",
    "\n",
    "def gcd(a, b):\n",
    "    while b:\n",
    "        a, b = b, a % b\n",
    "    return a\n",
    "\n",
    "gcd(10,20)"
   ]
  },
  {
   "cell_type": "markdown",
   "id": "34e1f297",
   "metadata": {},
   "source": [
    "### 12. Create a function to convert Celsius to Fahrenheit.\n"
   ]
  },
  {
   "cell_type": "code",
   "execution_count": 57,
   "id": "623c9c47",
   "metadata": {},
   "outputs": [
    {
     "data": {
      "text/plain": [
       "98.6"
      ]
     },
     "execution_count": 57,
     "metadata": {},
     "output_type": "execute_result"
    }
   ],
   "source": [
    "def celsius_to_fahrenheit(c):\n",
    "    return (c * 9/5) + 32\n",
    "celsius_to_fahrenheit(37)"
   ]
  },
  {
   "cell_type": "markdown",
   "id": "5e712a81",
   "metadata": {},
   "source": [
    "### 13. Define a function that accepts a sentence and returns the word with the maximum length.\n"
   ]
  },
  {
   "cell_type": "code",
   "execution_count": 60,
   "id": "0ecb5bb5",
   "metadata": {},
   "outputs": [
    {
     "data": {
      "text/plain": [
       "'student'"
      ]
     },
     "execution_count": 60,
     "metadata": {},
     "output_type": "execute_result"
    }
   ],
   "source": [
    "def longestWord(sentence):\n",
    "    word = ''\n",
    "    longest = ''\n",
    "    i = 0\n",
    "\n",
    "    while i < len(sentence):\n",
    "        if sentence[i] != ' ':\n",
    "            word += sentence[i]\n",
    "        else:\n",
    "            # Compare lengths manually\n",
    "            if len(word) > len(longest):\n",
    "                longest = word\n",
    "            word = ''\n",
    "        i += 1\n",
    "\n",
    "    # for last word\n",
    "    if len(word) > len(longest):\n",
    "        longest = word\n",
    "\n",
    "    return longest\n",
    "\n",
    "\n",
    "\n",
    "longestWord(\"I am student\")\n"
   ]
  },
  {
   "cell_type": "markdown",
   "id": "6b44b8f4",
   "metadata": {},
   "source": [
    "### 14. Write a function that accepts a number and returns whether it is an Armstrong number.\n"
   ]
  },
  {
   "cell_type": "markdown",
   "id": "389b25eb",
   "metadata": {},
   "source": [
    "Key Rule:\n",
    "\n",
    "✔ Raise each digit to the power of total digits\n",
    "\n",
    "✔ Add them\n",
    "\n",
    "✔ If the sum equals the original number → it's an Armstrong numbe\n",
    "\n",
    "9474 digits 4 --- 9^4 + 4^4 + 7^4 + 4^4 = 9474"
   ]
  },
  {
   "cell_type": "code",
   "execution_count": 64,
   "id": "96cc8de9",
   "metadata": {},
   "outputs": [
    {
     "data": {
      "text/plain": [
       "True"
      ]
     },
     "execution_count": 64,
     "metadata": {},
     "output_type": "execute_result"
    }
   ],
   "source": [
    "def isArmstrong(num):\n",
    "    # First count number of digits\n",
    "    n = num\n",
    "    digits = 0\n",
    "    while n > 0:\n",
    "        digits += 1\n",
    "        n //= 10\n",
    "\n",
    "    # Now calculate the sum of digits raised to the power\n",
    "    n = num\n",
    "    total = 0\n",
    "    while n > 0:\n",
    "        digit = n % 10\n",
    "        power = 1\n",
    "        for i in range(digits):\n",
    "            power *= digit\n",
    "        total += power\n",
    "        n //= 10\n",
    "\n",
    "    return total == num\n",
    "\n",
    "isArmstrong(9474)"
   ]
  },
  {
   "cell_type": "markdown",
   "id": "034297ec",
   "metadata": {},
   "source": [
    "### 15. Create a function to check if two strings are anagrams."
   ]
  },
  {
   "cell_type": "code",
   "execution_count": 61,
   "id": "db4b2e14",
   "metadata": {},
   "outputs": [
    {
     "data": {
      "text/plain": [
       "True"
      ]
     },
     "execution_count": 61,
     "metadata": {},
     "output_type": "execute_result"
    }
   ],
   "source": [
    "# Two strings are anagrams if:\n",
    "# They contain the same characters\n",
    "# In the same quantity\n",
    "# But possibly in differen order\n",
    "\n",
    "\n",
    "def are_anagrams(str1, str2):\n",
    "    return sorted(str1.lower()) == sorted(str2.lower())\n",
    "\n",
    "are_anagrams('silent','listen')"
   ]
  }
 ],
 "metadata": {
  "kernelspec": {
   "display_name": "Python 3 (ipykernel)",
   "language": "python",
   "name": "python3"
  },
  "language_info": {
   "codemirror_mode": {
    "name": "ipython",
    "version": 3
   },
   "file_extension": ".py",
   "mimetype": "text/x-python",
   "name": "python",
   "nbconvert_exporter": "python",
   "pygments_lexer": "ipython3",
   "version": "3.11.4"
  }
 },
 "nbformat": 4,
 "nbformat_minor": 5
}
