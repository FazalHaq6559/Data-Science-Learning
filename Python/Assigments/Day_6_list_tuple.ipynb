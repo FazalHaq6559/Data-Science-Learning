{
 "cells": [
  {
   "cell_type": "markdown",
   "id": "a2bddada",
   "metadata": {},
   "source": [
    "# Python Programming \n",
    "📅 **Date:** 21-07-2025  \n",
    "📍 **Day:** 6  \n",
    "📘 **Topic:** Data Structures Part 1 (Lists and Tuple)\n",
    "---\n",
    "\n"
   ]
  },
  {
   "cell_type": "markdown",
   "id": "dab5b48e",
   "metadata": {},
   "source": [
    "### 1. Write a Python program to create a list of 5 integers and print the list."
   ]
  },
  {
   "cell_type": "code",
   "execution_count": 1,
   "id": "3645e296",
   "metadata": {},
   "outputs": [
    {
     "name": "stdout",
     "output_type": "stream",
     "text": [
      "[8, 12, 24, 26, 20]\n"
     ]
    }
   ],
   "source": [
    "list = [8,12,24,26,20]\n",
    "print(list)"
   ]
  },
  {
   "cell_type": "markdown",
   "id": "dccfef37",
   "metadata": {},
   "source": [
    "### 2. Write a Python function that takes a list of numbers and returns the maximum value."
   ]
  },
  {
   "cell_type": "code",
   "execution_count": 2,
   "id": "264fa28a",
   "metadata": {},
   "outputs": [
    {
     "name": "stdout",
     "output_type": "stream",
     "text": [
      "89\n"
     ]
    }
   ],
   "source": [
    "def max(number_list):\n",
    "    max = 0\n",
    "    for number in number_list:\n",
    "        if number > max: \n",
    "            max = number\n",
    "    print(max)\n",
    "\n",
    "numbers = [54,76,89,9,6,8,34,65]\n",
    "\n",
    "max(numbers)\n"
   ]
  },
  {
   "cell_type": "markdown",
   "id": "35ef4a29",
   "metadata": {},
   "source": [
    "### 3. Create a list of fruits and print the second and last elements."
   ]
  },
  {
   "cell_type": "code",
   "execution_count": 3,
   "id": "3810ee09",
   "metadata": {},
   "outputs": [
    {
     "name": "stdout",
     "output_type": "stream",
     "text": [
      "banana\n",
      "mango\n"
     ]
    }
   ],
   "source": [
    "fruits = ['apple', 'banana', 'peach', 'mango']\n",
    "print(fruits[1])\n",
    "print(fruits[-1])"
   ]
  },
  {
   "cell_type": "markdown",
   "id": "566c816e",
   "metadata": {},
   "source": [
    "### 4. Write a program to remove all duplicates from a list."
   ]
  },
  {
   "cell_type": "code",
   "execution_count": 5,
   "id": "bcf5ad1e",
   "metadata": {},
   "outputs": [
    {
     "name": "stdout",
     "output_type": "stream",
     "text": [
      "['a', 'b', 'c', 'd']\n"
     ]
    }
   ],
   "source": [
    "list = ['a','b','b','c','c','d','d','a']\n",
    "\n",
    "unique_list = []\n",
    "for letter in list:\n",
    "    if letter not in unique_list:\n",
    "        unique_list.append(letter)\n",
    "print(unique_list)"
   ]
  },
  {
   "cell_type": "markdown",
   "id": "ab120ec6",
   "metadata": {},
   "source": [
    "### 5. Write a Python program to find the sum and average of elements in a list."
   ]
  },
  {
   "cell_type": "code",
   "execution_count": 8,
   "id": "02dd5e7f",
   "metadata": {},
   "outputs": [
    {
     "name": "stdout",
     "output_type": "stream",
     "text": [
      "48\n",
      "8.0\n"
     ]
    }
   ],
   "source": [
    "number_list = [7,8,9,9,8,7]\n",
    "sum = 0\n",
    "for num in number_list:\n",
    "    sum +=num\n",
    "average = sum / len(number_list)\n",
    "print(sum)\n",
    "print(average)"
   ]
  },
  {
   "cell_type": "markdown",
   "id": "f8ec8a40",
   "metadata": {},
   "source": [
    "### 6. Given a list of numbers, write a program to square each number and store the result in a new list."
   ]
  },
  {
   "cell_type": "code",
   "execution_count": 9,
   "id": "f2a75787",
   "metadata": {},
   "outputs": [
    {
     "name": "stdout",
     "output_type": "stream",
     "text": [
      "[4, 16, 36, 64, 100]\n"
     ]
    }
   ],
   "source": [
    "number_list = [2,4,6,8,10]\n",
    "square_list = []\n",
    "for num in number_list:\n",
    "    square_list.append(num**2)\n",
    "print(square_list)"
   ]
  },
  {
   "cell_type": "markdown",
   "id": "dc3bc3bc",
   "metadata": {},
   "source": [
    "### 7. Write a program to reverse a list without using built-in reverse() function."
   ]
  },
  {
   "cell_type": "code",
   "execution_count": 18,
   "id": "5f739991",
   "metadata": {},
   "outputs": [
    {
     "name": "stdout",
     "output_type": "stream",
     "text": [
      "['e', 'd', 'c', 'b', 'a']\n"
     ]
    }
   ],
   "source": [
    "alphabet_list = ['a','b','c','d','e']\n",
    "reversed_list =[]\n",
    "for alphabet in range(len(alphabet_list)-1,-1,-1):\n",
    "    reversed_list.append(alphabet_list[alphabet])\n",
    "print(reversed_list)"
   ]
  },
  {
   "cell_type": "markdown",
   "id": "43df6e3f",
   "metadata": {},
   "source": [
    "### 8. Check whether a specific item exists in a list or not.\n"
   ]
  },
  {
   "cell_type": "code",
   "execution_count": 33,
   "id": "2979a9a0",
   "metadata": {},
   "outputs": [
    {
     "name": "stdout",
     "output_type": "stream",
     "text": [
      "Check fruit : banana\n",
      "Available\n"
     ]
    }
   ],
   "source": [
    "fruits = ['banana', 'apple', 'peach']\n",
    "item = input(\"Check fruit : \")\n",
    "if item not in fruits: \n",
    "    print(\"Not Available\")\n",
    "else:\n",
    "    print(\"Available\")\n",
    "    "
   ]
  },
  {
   "cell_type": "markdown",
   "id": "83068f97",
   "metadata": {},
   "source": [
    "### 9. Create a tuple with 6 elements. Print the first, third, and last element."
   ]
  },
  {
   "cell_type": "code",
   "execution_count": 36,
   "id": "3c819f76",
   "metadata": {},
   "outputs": [
    {
     "name": "stdout",
     "output_type": "stream",
     "text": [
      "1st\n",
      "3rd\n",
      "last\n"
     ]
    }
   ],
   "source": [
    "tup = ('1st','2nd','3rd','4th','5th','last')\n",
    "print(tup[0])\n",
    "print(tup[2])\n",
    "print(tup[len(tup)-1])"
   ]
  },
  {
   "cell_type": "markdown",
   "id": "8e99151a",
   "metadata": {},
   "source": [
    "### 10. Write a Python program to convert a list into a tuple.\n"
   ]
  },
  {
   "cell_type": "code",
   "execution_count": 38,
   "id": "770419d5",
   "metadata": {},
   "outputs": [
    {
     "data": {
      "text/plain": [
       "tuple"
      ]
     },
     "execution_count": 38,
     "metadata": {},
     "output_type": "execute_result"
    }
   ],
   "source": [
    "list = [1,2,3,4,5,6]\n",
    "tup = tuple(list)\n",
    "type(tup)"
   ]
  },
  {
   "cell_type": "markdown",
   "id": "5c662293",
   "metadata": {},
   "source": [
    "### 11. Write a program to count how many times an item appears in a tuple.\n"
   ]
  },
  {
   "cell_type": "code",
   "execution_count": 40,
   "id": "3e80e4db",
   "metadata": {},
   "outputs": [
    {
     "name": "stdout",
     "output_type": "stream",
     "text": [
      "Enter item to see : 5\n",
      "2\n"
     ]
    }
   ],
   "source": [
    "tup = (2,4,2,4,3,5,3,5)\n",
    "count = 0\n",
    "item = int(input(\"Enter item to see : \"))\n",
    "if item in tup:\n",
    "    count = tup.count(item)\n",
    "print(count)\n",
    "    \n"
   ]
  },
  {
   "cell_type": "markdown",
   "id": "68a4262b",
   "metadata": {},
   "source": [
    "### 12. Given a tuple of numbers, write a program to find the minimum and maximum values.\n"
   ]
  },
  {
   "cell_type": "code",
   "execution_count": 41,
   "id": "6c4dd9d5",
   "metadata": {},
   "outputs": [
    {
     "name": "stdout",
     "output_type": "stream",
     "text": [
      "100\n"
     ]
    }
   ],
   "source": [
    "tup = (2,12,65,89,100,78,98)\n",
    "max = 0\n",
    "for num in tup:\n",
    "    if num > max:\n",
    "        max = num\n",
    "        \n",
    "print(max)"
   ]
  },
  {
   "cell_type": "markdown",
   "id": "103a8639",
   "metadata": {},
   "source": [
    "### 13. Create a tuple of student names. Try modifying one element and observe the error.\n"
   ]
  },
  {
   "cell_type": "code",
   "execution_count": 45,
   "id": "aaf4317c",
   "metadata": {},
   "outputs": [
    {
     "ename": "TypeError",
     "evalue": "'tuple' object does not support item assignment",
     "output_type": "error",
     "traceback": [
      "\u001b[1;31m---------------------------------------------------------------------------\u001b[0m",
      "\u001b[1;31mTypeError\u001b[0m                                 Traceback (most recent call last)",
      "Cell \u001b[1;32mIn[45], line 3\u001b[0m\n\u001b[0;32m      1\u001b[0m student_name \u001b[38;5;241m=\u001b[39m(\u001b[38;5;124m'\u001b[39m\u001b[38;5;124mAhmad\u001b[39m\u001b[38;5;124m'\u001b[39m, \u001b[38;5;124m'\u001b[39m\u001b[38;5;124mSultan\u001b[39m\u001b[38;5;124m'\u001b[39m, \u001b[38;5;124m'\u001b[39m\u001b[38;5;124mQasim\u001b[39m\u001b[38;5;124m'\u001b[39m)\n\u001b[0;32m      2\u001b[0m \u001b[38;5;66;03m# i want to change the name ahmad to Ahmed\u001b[39;00m\n\u001b[1;32m----> 3\u001b[0m student_name[\u001b[38;5;241m0\u001b[39m] \u001b[38;5;241m=\u001b[39m \u001b[38;5;124m'\u001b[39m\u001b[38;5;124mAhmed\u001b[39m\u001b[38;5;124m'\u001b[39m\n",
      "\u001b[1;31mTypeError\u001b[0m: 'tuple' object does not support item assignment"
     ]
    }
   ],
   "source": [
    "student_name =('Ahmad', 'Sultan', 'Qasim')\n",
    "# i want to change the name ahmad to Ahmed\n",
    "student_name[0] = 'Ahmed'\n",
    "\n",
    "# TypeError: 'tuple' object does not support item assignment\n",
    "# this is because, tuples are immutable object, means it cannot be change \n"
   ]
  },
  {
   "cell_type": "markdown",
   "id": "de311dc2",
   "metadata": {},
   "source": [
    "### 14. Write a program that merges two lists into one and removes duplicates.\n"
   ]
  },
  {
   "cell_type": "code",
   "execution_count": 55,
   "id": "f6806a03",
   "metadata": {},
   "outputs": [
    {
     "name": "stdout",
     "output_type": "stream",
     "text": [
      "{1, 2, 3, 4, 5}\n"
     ]
    }
   ],
   "source": [
    "list1 = [1,2,3]\n",
    "list2 = [1,2,3,4,5]\n",
    "\n",
    "Merge = list1 + list2\n",
    "\n",
    "# Remove duplicates using set, then convert back to list\n",
    "unique_list = set(Merge)\n",
    "\n",
    "print(unique_list)"
   ]
  },
  {
   "cell_type": "markdown",
   "id": "64ba6e57",
   "metadata": {},
   "source": [
    "### 15. Given a list of numbers, write a program to find the second largest number."
   ]
  },
  {
   "cell_type": "code",
   "execution_count": 58,
   "id": "e277b59f",
   "metadata": {},
   "outputs": [
    {
     "data": {
      "text/plain": [
       "89"
      ]
     },
     "execution_count": 58,
     "metadata": {},
     "output_type": "execute_result"
    }
   ],
   "source": [
    "numbers = [10, 25, 3, 89, 42, 89]\n",
    "numbers.sort(reverse=True)\n",
    "numbers[1]"
   ]
  }
 ],
 "metadata": {
  "kernelspec": {
   "display_name": "Python 3 (ipykernel)",
   "language": "python",
   "name": "python3"
  },
  "language_info": {
   "codemirror_mode": {
    "name": "ipython",
    "version": 3
   },
   "file_extension": ".py",
   "mimetype": "text/x-python",
   "name": "python",
   "nbconvert_exporter": "python",
   "pygments_lexer": "ipython3",
   "version": "3.11.4"
  }
 },
 "nbformat": 4,
 "nbformat_minor": 5
}
