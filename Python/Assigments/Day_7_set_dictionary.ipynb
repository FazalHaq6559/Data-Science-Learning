{
 "cells": [
  {
   "cell_type": "markdown",
   "id": "18ee3fcc",
   "metadata": {},
   "source": [
    "# Python Programming \n",
    "📅 **Date:** 21-07-2025  \n",
    "📍 **Day:** 7 \n",
    "\n",
    "📘 **Topic:** Data Structures Part 2 (Set and Dictionary)\n",
    "---\n"
   ]
  },
  {
   "cell_type": "markdown",
   "id": "14e5ef0c",
   "metadata": {},
   "source": [
    "### 1. Create a set from this list: [1, 2, 2, 3, 4, 4, 5]. Print the set.\n"
   ]
  },
  {
   "cell_type": "code",
   "execution_count": 1,
   "id": "4c15ce18",
   "metadata": {},
   "outputs": [
    {
     "name": "stdout",
     "output_type": "stream",
     "text": [
      "{1, 2, 3, 4, 5}\n"
     ]
    }
   ],
   "source": [
    "list = [1,2,2,3,4,4,5]\n",
    "set = set(list) # converting into set will remove duplicates \n",
    "print(set)"
   ]
  },
  {
   "cell_type": "markdown",
   "id": "349ebb19",
   "metadata": {},
   "source": [
    "### 2. Create a dictionary with your name, age, and city. Print the dictionary.\n"
   ]
  },
  {
   "cell_type": "code",
   "execution_count": 5,
   "id": "faae5c80",
   "metadata": {},
   "outputs": [
    {
     "name": "stdout",
     "output_type": "stream",
     "text": [
      "{'name': 'Fazal', 'age': 25, 'city': 'Swat'}\n"
     ]
    }
   ],
   "source": [
    "person = {'name':'Fazal', 'age': 25, 'city':'Swat'}\n",
    "print(person) "
   ]
  },
  {
   "cell_type": "markdown",
   "id": "0899bfaa",
   "metadata": {},
   "source": [
    "### 3. Use a string method to convert the string 'hello world' to uppercase."
   ]
  },
  {
   "cell_type": "code",
   "execution_count": 6,
   "id": "8424de96",
   "metadata": {},
   "outputs": [
    {
     "data": {
      "text/plain": [
       "'HELLO WORLD'"
      ]
     },
     "execution_count": 6,
     "metadata": {},
     "output_type": "execute_result"
    }
   ],
   "source": [
    "str = \"hello world\"\n",
    "str.upper()"
   ]
  },
  {
   "cell_type": "markdown",
   "id": "106b8a55",
   "metadata": {},
   "source": [
    "### 4. Find the length of the string 'Python Programming'."
   ]
  },
  {
   "cell_type": "code",
   "execution_count": 7,
   "id": "4178b655",
   "metadata": {},
   "outputs": [
    {
     "data": {
      "text/plain": [
       "18"
      ]
     },
     "execution_count": 7,
     "metadata": {},
     "output_type": "execute_result"
    }
   ],
   "source": [
    "str = 'Python Programming'\n",
    "len(str)"
   ]
  },
  {
   "cell_type": "markdown",
   "id": "02c13398",
   "metadata": {},
   "source": [
    "### 5. Check if the word 'apple' is in the set {'banana', 'apple', 'orange'}.\n"
   ]
  },
  {
   "cell_type": "code",
   "execution_count": 9,
   "id": "227ff30b",
   "metadata": {},
   "outputs": [
    {
     "name": "stdout",
     "output_type": "stream",
     "text": [
      "Yes the is apple in the set\n"
     ]
    }
   ],
   "source": [
    "fruit ={'banana', 'apple', 'orange'}\n",
    "if 'apple' in fruit:\n",
    "    print(\"Yes the is apple in the set\")"
   ]
  },
  {
   "cell_type": "markdown",
   "id": "bafb324d",
   "metadata": {},
   "source": [
    "### 6. Print all keys from the dictionary: {'name': 'Ali', 'age': 25, 'city': 'Lahore'}.\n"
   ]
  },
  {
   "cell_type": "code",
   "execution_count": 12,
   "id": "9444715e",
   "metadata": {},
   "outputs": [
    {
     "name": "stdout",
     "output_type": "stream",
     "text": [
      "dict_keys(['name', 'age', 'city'])\n"
     ]
    }
   ],
   "source": [
    "person = {'name': 'Ali', 'age': 25, 'city': 'Lahore'}\n",
    "\n",
    "print(person.keys())\n"
   ]
  },
  {
   "cell_type": "markdown",
   "id": "d5c8ac86",
   "metadata": {},
   "source": [
    "### 7. Use string method to count how many times 'a' appears in 'banana'."
   ]
  },
  {
   "cell_type": "code",
   "execution_count": 14,
   "id": "f1557621",
   "metadata": {},
   "outputs": [
    {
     "data": {
      "text/plain": [
       "3"
      ]
     },
     "execution_count": 14,
     "metadata": {},
     "output_type": "execute_result"
    }
   ],
   "source": [
    "'Banana'.count('a')"
   ]
  },
  {
   "cell_type": "markdown",
   "id": "7603bf35",
   "metadata": {},
   "source": [
    "### 8. Add an item to this set: {'red', 'green'}. Add 'blue'.\n"
   ]
  },
  {
   "cell_type": "code",
   "execution_count": 16,
   "id": "f334ecf0",
   "metadata": {},
   "outputs": [
    {
     "name": "stdout",
     "output_type": "stream",
     "text": [
      "{'blue', 'green', 'red'}\n"
     ]
    }
   ],
   "source": [
    "color = {'red', 'green'}\n",
    "color.add('blue')\n",
    "print(color)"
   ]
  },
  {
   "cell_type": "markdown",
   "id": "d1e7390b",
   "metadata": {},
   "source": [
    "### 9. Change the value of 'age' in the dictionary {'name': 'Sara', 'age': 22} to 23.\n"
   ]
  },
  {
   "cell_type": "code",
   "execution_count": 18,
   "id": "5e227157",
   "metadata": {},
   "outputs": [
    {
     "name": "stdout",
     "output_type": "stream",
     "text": [
      "{'name': 'Sara', 'age': 23}\n"
     ]
    }
   ],
   "source": [
    "person = {'name': 'Sara', 'age': 22}\n",
    "person['age'] = 23\n",
    "\n",
    "print(person)"
   ]
  },
  {
   "cell_type": "markdown",
   "id": "4d993c21",
   "metadata": {},
   "source": [
    "### 10. Remove the word 'cat' from the set {'cat', 'dog', 'mouse'}.\n"
   ]
  },
  {
   "cell_type": "code",
   "execution_count": 19,
   "id": "ae386483",
   "metadata": {},
   "outputs": [
    {
     "name": "stdout",
     "output_type": "stream",
     "text": [
      "{'mouse', 'dog'}\n"
     ]
    }
   ],
   "source": [
    "animal = {'cat', 'dog', 'mouse'}\n",
    "animal.remove('cat')\n",
    "print(animal)"
   ]
  },
  {
   "cell_type": "markdown",
   "id": "56f26e8f",
   "metadata": {},
   "source": [
    "### 11. Split the string 'apple, banana, orange' into a list using string method.\n"
   ]
  },
  {
   "cell_type": "code",
   "execution_count": 22,
   "id": "3033f2be",
   "metadata": {},
   "outputs": [
    {
     "name": "stdout",
     "output_type": "stream",
     "text": [
      "['apple', 'banana', 'orange']\n"
     ]
    }
   ],
   "source": [
    "fruit_string = 'apple, banana, orange'\n",
    "fruit_list = fruit_string.split(', ')\n",
    "print(fruit_list)"
   ]
  },
  {
   "cell_type": "markdown",
   "id": "81ab226b",
   "metadata": {},
   "source": [
    "### 12. Check if key 'city' exists in the dictionary {'name': 'Ali', 'city': 'Karachi'}.\n"
   ]
  },
  {
   "cell_type": "code",
   "execution_count": 23,
   "id": "2ab5527c",
   "metadata": {},
   "outputs": [
    {
     "name": "stdout",
     "output_type": "stream",
     "text": [
      "Yes, Present in the dictionary\n"
     ]
    }
   ],
   "source": [
    "person ={'name': 'Ali', 'city': 'Karachi'}\n",
    "\n",
    "if 'city' in person:\n",
    "    print(\"Yes, Present in the dictionary\")"
   ]
  },
  {
   "cell_type": "markdown",
   "id": "9f6ac6d6",
   "metadata": {},
   "source": [
    "### 13. Join the list ['Python', 'is', 'fun'] into a single string.\n"
   ]
  },
  {
   "cell_type": "code",
   "execution_count": 24,
   "id": "c21ce5ad",
   "metadata": {},
   "outputs": [
    {
     "name": "stdout",
     "output_type": "stream",
     "text": [
      "Python is fun\n"
     ]
    }
   ],
   "source": [
    "words = ['Python', 'is', 'fun']\n",
    "sentence = ' '.join(words) #Take each word in the list and join them together with a space ' ' between each.\n",
    "print(sentence)"
   ]
  },
  {
   "cell_type": "markdown",
   "id": "f34a609a",
   "metadata": {},
   "source": [
    "### 14. Clear all items from the dictionary {'a': 1, 'b': 2}.\n"
   ]
  },
  {
   "cell_type": "code",
   "execution_count": 27,
   "id": "c9140b71",
   "metadata": {},
   "outputs": [
    {
     "name": "stdout",
     "output_type": "stream",
     "text": [
      "{}\n"
     ]
    }
   ],
   "source": [
    "dict = {'a': 1, 'b': 2}\n",
    "dict.clear()\n",
    "print(dict)"
   ]
  },
  {
   "cell_type": "markdown",
   "id": "027fb887",
   "metadata": {},
   "source": [
    "### 15. Use a string method to replace 'world' with 'Python' in the string 'hello world'."
   ]
  },
  {
   "cell_type": "code",
   "execution_count": 32,
   "id": "5ceeb99a",
   "metadata": {},
   "outputs": [
    {
     "name": "stdout",
     "output_type": "stream",
     "text": [
      "hello Python\n"
     ]
    }
   ],
   "source": [
    "greeting = 'hello world'\n",
    "new_greeting = greeting.replace('world', 'Python')\n",
    "print(new_greeting)"
   ]
  }
 ],
 "metadata": {
  "kernelspec": {
   "display_name": "Python 3 (ipykernel)",
   "language": "python",
   "name": "python3"
  },
  "language_info": {
   "codemirror_mode": {
    "name": "ipython",
    "version": 3
   },
   "file_extension": ".py",
   "mimetype": "text/x-python",
   "name": "python",
   "nbconvert_exporter": "python",
   "pygments_lexer": "ipython3",
   "version": "3.11.4"
  }
 },
 "nbformat": 4,
 "nbformat_minor": 5
}
