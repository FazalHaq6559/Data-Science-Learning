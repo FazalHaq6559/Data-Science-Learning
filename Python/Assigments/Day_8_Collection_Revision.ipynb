{
 "cells": [
  {
   "cell_type": "markdown",
   "id": "c39a40d5",
   "metadata": {},
   "source": [
    "# Python Practice Questions \n",
    "📅 **Date:** 23-07-2025 \n",
    "\n",
    "📘 **Day 8** – \n",
    "# Topic: Dictionary Methods + Lists, Sets, Strings, Tuples"
   ]
  },
  {
   "cell_type": "markdown",
   "id": "190b42c0",
   "metadata": {},
   "source": [
    "### 1.Write a Python program to merge two dictionaries into one."
   ]
  },
  {
   "cell_type": "code",
   "execution_count": 1,
   "id": "fcc3660c",
   "metadata": {},
   "outputs": [
    {
     "name": "stdout",
     "output_type": "stream",
     "text": [
      "{'name': 'Fazal', 'School': 'Bahria', 'age': 25, 'City': 'Swat', 'Family': 6}\n"
     ]
    }
   ],
   "source": [
    "person = {'name': 'Fazal', 'School':'Bahria', 'age': 25}\n",
    "location = {'City': 'Swat', 'Family': 6}\n",
    "merged = {}\n",
    "for d in (person, location):\n",
    "    for key, value in d.items():\n",
    "        merged[key] = value\n",
    "print(merged)"
   ]
  },
  {
   "cell_type": "markdown",
   "id": "b7766bd6",
   "metadata": {},
   "source": [
    "### 2.How can you check if a key exists in a dictionary?"
   ]
  },
  {
   "cell_type": "code",
   "execution_count": 12,
   "id": "76716736",
   "metadata": {},
   "outputs": [
    {
     "name": "stdout",
     "output_type": "stream",
     "text": [
      "True\n"
     ]
    }
   ],
   "source": [
    "d = {'name': 'Ali', 'age': 25}\n",
    "print('age' in d)"
   ]
  },
  {
   "cell_type": "markdown",
   "id": "98499a21",
   "metadata": {},
   "source": [
    "### 3.Remove a key-value pair from a dictionary using a method."
   ]
  },
  {
   "cell_type": "code",
   "execution_count": 16,
   "id": "04195006",
   "metadata": {},
   "outputs": [
    {
     "name": "stdout",
     "output_type": "stream",
     "text": [
      "{'name': 'Ali'}\n"
     ]
    }
   ],
   "source": [
    "d = {'name': 'Ali', 'age': 25}\n",
    "#d.pop('age')\n",
    "del d['age']\n",
    "print(d)"
   ]
  },
  {
   "cell_type": "markdown",
   "id": "7d5bf11c",
   "metadata": {},
   "source": [
    "### 4.Use a dictionary method to return the value for a given key, or a default value if the key is not present."
   ]
  },
  {
   "cell_type": "code",
   "execution_count": 22,
   "id": "e50121dc",
   "metadata": {},
   "outputs": [
    {
     "name": "stdout",
     "output_type": "stream",
     "text": [
      "Enter a key look forname\n",
      "Fazal\n"
     ]
    }
   ],
   "source": [
    "person = {'name': 'Fazal', 'School':'Bahria', 'age': 25}\n",
    "key = input(\"Enter a key look for\")\n",
    "if key in person:\n",
    "    print(person.get(key))\n",
    "else:\n",
    "    print(\"Not Found\")"
   ]
  },
  {
   "cell_type": "markdown",
   "id": "fa0df4e8",
   "metadata": {},
   "source": [
    "### 5.Convert two lists into a dictionary using zip().\n"
   ]
  },
  {
   "cell_type": "code",
   "execution_count": 23,
   "id": "35f70c8f",
   "metadata": {},
   "outputs": [
    {
     "name": "stdout",
     "output_type": "stream",
     "text": [
      "{'a': 1, 'b': 2, 'c': 3}\n"
     ]
    }
   ],
   "source": [
    "keys = ['a', 'b', 'c']\n",
    "values = [1, 2, 3]\n",
    "\n",
    "d = dict(zip(keys,values))\n",
    "print(d)"
   ]
  },
  {
   "cell_type": "markdown",
   "id": "7d68ad36",
   "metadata": {},
   "source": [
    "### 6.Create a dictionary from user input of 3 key-value pairs.\n"
   ]
  },
  {
   "cell_type": "code",
   "execution_count": 24,
   "id": "ab468665",
   "metadata": {},
   "outputs": [
    {
     "name": "stdout",
     "output_type": "stream",
     "text": [
      "Enter key: name\n",
      "Enter value: Fazal\n",
      "Enter key: age\n",
      "Enter value: 25\n",
      "Enter key: location\n",
      "Enter value: swat\n",
      "{'name': 'Fazal', 'age': '25', 'location': 'swat'}\n"
     ]
    }
   ],
   "source": [
    "d = {}\n",
    "for _ in range(3):\n",
    "    key = input(\"Enter key: \")\n",
    "    value = input(\"Enter value: \")\n",
    "    d[key] = value\n",
    "print(d)\n"
   ]
  },
  {
   "cell_type": "markdown",
   "id": "372239f0",
   "metadata": {},
   "source": [
    "### 7.Write a program to count the frequency of each character in a string using a dictionary.\n"
   ]
  },
  {
   "cell_type": "code",
   "execution_count": 25,
   "id": "73ed185a",
   "metadata": {},
   "outputs": [
    {
     "name": "stdout",
     "output_type": "stream",
     "text": [
      "{'h': 1, 'e': 1, 'l': 2, 'o': 1}\n"
     ]
    }
   ],
   "source": [
    "text = \"hello\"\n",
    "freq = {}\n",
    "for char in text:\n",
    "    freq[char] = freq.get(char, 0) + 1\n",
    "print(freq)"
   ]
  },
  {
   "cell_type": "markdown",
   "id": "a5ef23ff",
   "metadata": {},
   "source": [
    "### 8.Given a dictionary of students and scores, find the student with the highest score.\n"
   ]
  },
  {
   "cell_type": "code",
   "execution_count": 26,
   "id": "aaa662cc",
   "metadata": {},
   "outputs": [
    {
     "name": "stdout",
     "output_type": "stream",
     "text": [
      "Sara\n"
     ]
    }
   ],
   "source": [
    "students = {'Ali': 88, 'Sara': 95, 'Ahmed': 90}\n",
    "topper = max(students, key=students.get)\n",
    "print(topper)\n"
   ]
  },
  {
   "cell_type": "markdown",
   "id": "5a062eff",
   "metadata": {},
   "source": [
    "### 9.Use the set() method to remove duplicates from a list.\n"
   ]
  },
  {
   "cell_type": "code",
   "execution_count": 27,
   "id": "ca2c6683",
   "metadata": {},
   "outputs": [
    {
     "name": "stdout",
     "output_type": "stream",
     "text": [
      "[1, 2, 3, 4]\n"
     ]
    }
   ],
   "source": [
    "nums = [1, 2, 2, 3, 4, 4]\n",
    "unique = list(set(nums))\n",
    "print(unique) \n"
   ]
  },
  {
   "cell_type": "markdown",
   "id": "1dda8284",
   "metadata": {},
   "source": [
    "### 10.Find the intersection of two sets in Python.\n"
   ]
  },
  {
   "cell_type": "code",
   "execution_count": 31,
   "id": "d3853621",
   "metadata": {},
   "outputs": [
    {
     "name": "stdout",
     "output_type": "stream",
     "text": [
      "{2, 3}\n"
     ]
    }
   ],
   "source": [
    "a = {1, 2, 3}\n",
    "b = {2, 3, 4}\n",
    "print(a & b)\n",
    "#a.intersection(b)"
   ]
  },
  {
   "cell_type": "markdown",
   "id": "331283a6",
   "metadata": {},
   "source": [
    "### 11.Write a program that takes a string and returns the number of vowels in it.\n"
   ]
  },
  {
   "cell_type": "code",
   "execution_count": 32,
   "id": "a1efe982",
   "metadata": {},
   "outputs": [
    {
     "name": "stdout",
     "output_type": "stream",
     "text": [
      "3\n"
     ]
    }
   ],
   "source": [
    "text = \"programming\"\n",
    "vowels = 'aeiouAEIOU'\n",
    "count = sum(1 for char in text if char in vowels)\n",
    "print(count)"
   ]
  },
  {
   "cell_type": "markdown",
   "id": "04db859c",
   "metadata": {},
   "source": [
    "### 12.Reverse a list without using the reverse() method.\n"
   ]
  },
  {
   "cell_type": "code",
   "execution_count": 33,
   "id": "52fd80e2",
   "metadata": {},
   "outputs": [
    {
     "name": "stdout",
     "output_type": "stream",
     "text": [
      "[4, 3, 2, 1]\n"
     ]
    }
   ],
   "source": [
    "lst = [1, 2, 3, 4]\n",
    "reversed_lst = lst[::-1]\n",
    "print(reversed_lst)"
   ]
  },
  {
   "cell_type": "markdown",
   "id": "1ad38698",
   "metadata": {},
   "source": [
    "### 13.Write a Python program to check if a tuple contains a specific value.\n"
   ]
  },
  {
   "cell_type": "code",
   "execution_count": 34,
   "id": "dbddf312",
   "metadata": {},
   "outputs": [
    {
     "name": "stdout",
     "output_type": "stream",
     "text": [
      "True\n"
     ]
    }
   ],
   "source": [
    "t = (10, 20, 30)\n",
    "print(20 in t)"
   ]
  },
  {
   "cell_type": "markdown",
   "id": "2b1d16e3",
   "metadata": {},
   "source": [
    "### 14.Convert a list of tuples into a dictionary.\n"
   ]
  },
  {
   "cell_type": "code",
   "execution_count": 35,
   "id": "3f4925b5",
   "metadata": {},
   "outputs": [
    {
     "name": "stdout",
     "output_type": "stream",
     "text": [
      "{'a': 1, 'b': 2}\n"
     ]
    }
   ],
   "source": [
    "pairs = [('a', 1), ('b', 2)]\n",
    "d = dict(pairs)\n",
    "print(d)  "
   ]
  },
  {
   "cell_type": "markdown",
   "id": "c2750a0f",
   "metadata": {},
   "source": [
    "### 15.Create a set from a string and display the unique characters."
   ]
  },
  {
   "cell_type": "code",
   "execution_count": 36,
   "id": "adf83020",
   "metadata": {},
   "outputs": [
    {
     "name": "stdout",
     "output_type": "stream",
     "text": [
      "{'o', 'e', 'w', ' ', 'l', 'd', 'r', 'h'}\n"
     ]
    }
   ],
   "source": [
    "s = \"hello world\"\n",
    "unique_chars = set(s) # remove duplicate, so unique will be left \n",
    "print(unique_chars)"
   ]
  },
  {
   "cell_type": "code",
   "execution_count": null,
   "id": "0cd095a6",
   "metadata": {},
   "outputs": [],
   "source": []
  }
 ],
 "metadata": {
  "kernelspec": {
   "display_name": "Python 3 (ipykernel)",
   "language": "python",
   "name": "python3"
  },
  "language_info": {
   "codemirror_mode": {
    "name": "ipython",
    "version": 3
   },
   "file_extension": ".py",
   "mimetype": "text/x-python",
   "name": "python",
   "nbconvert_exporter": "python",
   "pygments_lexer": "ipython3",
   "version": "3.11.4"
  }
 },
 "nbformat": 4,
 "nbformat_minor": 5
}
