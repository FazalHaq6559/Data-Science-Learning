{
 "cells": [
  {
   "cell_type": "markdown",
   "id": "52ed09a8",
   "metadata": {},
   "source": [
    "📅 27-07-2025 | Day 13 | OOP\n",
    "\n",
    "Subtopics: Inheritance, Polymorphism, Abstraction, Encapsulation\n"
   ]
  },
  {
   "cell_type": "code",
   "execution_count": null,
   "id": "f54f4d10",
   "metadata": {},
   "outputs": [],
   "source": [
    "Practice Questions:\n",
    "1.\n",
    "2.2. Define a class 'Car' with an __init__ method that initializes brand, model, and year.\n",
    "\n",
    "\n",
    "3.3. Write a class 'Circle' that takes radius as a parameter and calculates area and circumference.\n",
    "\n",
    "4.4. Create a class 'Employee' with a method to display employee details.\n",
    "\n",
    "5.5. Implement a class 'Book' to store book title, author and price. Add a method to show details.\n",
    "\n",
    "6.6. Design a class 'Calculator' with methods to add, subtract, multiply and divide two numbers.\n",
    "\n",
    "7.7. Create a class 'BankAccount' with deposit and withdraw methods and display current balance.\n",
    "\n",
    "8.8. Define a class 'Rectangle' with width and height. Add a method to calculate area and perimeter.\n",
    "\n",
    "9.9. Write a class 'Person' with a greeting method and test it with different names.\n",
    "\n",
    "10.10. Make a class 'Laptop' with attributes brand, RAM, and processor. Display them using a method.\n"
   ]
  },
  {
   "cell_type": "markdown",
   "id": "998f1b78",
   "metadata": {},
   "source": [
    "### 1. Create a class named 'Student' with attributes name and age. Instantiate two objects and print their details."
   ]
  },
  {
   "cell_type": "code",
   "execution_count": 3,
   "id": "1777f83d",
   "metadata": {},
   "outputs": [
    {
     "name": "stdout",
     "output_type": "stream",
     "text": [
      "Name: Fazal , age : 25 \n",
      "Name: Zeeshan , age : 23 \n"
     ]
    }
   ],
   "source": [
    "class student:\n",
    "    def __init__(self,name,age):\n",
    "        self.name = name\n",
    "        self.age = age\n",
    "    def show_detail(self):\n",
    "        print(f\"Name: {self.name} , age : {self.age} \")\n",
    "\n",
    "student1 = student(\"Fazal\",25) \n",
    "student2 = student(\"Zeeshan\", 23)\n",
    "\n",
    "student1.show_detail()\n",
    "student2.show_detail()\n",
    "\n",
    "    "
   ]
  },
  {
   "cell_type": "markdown",
   "id": "b02fb37a",
   "metadata": {},
   "source": [
    "### 2. Define a class 'Car' with an __init__ method that initializes brand, model, and year.\n"
   ]
  },
  {
   "cell_type": "code",
   "execution_count": 6,
   "id": "d2f2a48a",
   "metadata": {},
   "outputs": [
    {
     "name": "stdout",
     "output_type": "stream",
     "text": [
      "Brand :BMW, Model : B12, Year: 2024 \n"
     ]
    }
   ],
   "source": [
    "class Car:\n",
    "    def __init__(self,brand,model,year):\n",
    "        self.brand = brand\n",
    "        self.model = model\n",
    "        self.year = year\n",
    "        \n",
    "    def show(self):\n",
    "        print(f\"Brand :{self.brand}, Model : {self.model}, Year: {self.year} \")\n",
    "        \n",
    "car = Car(\"BMW\",\"B12\",\"2024\")\n",
    "car.show()"
   ]
  },
  {
   "cell_type": "markdown",
   "id": "686349d0",
   "metadata": {},
   "source": [
    "### 3. Write a class 'Circle' that takes radius as a parameter and calculates area and circumference."
   ]
  },
  {
   "cell_type": "code",
   "execution_count": 16,
   "id": "d3b6ca23",
   "metadata": {},
   "outputs": [
    {
     "name": "stdout",
     "output_type": "stream",
     "text": [
      "Area: 78.53975\n",
      "Circumference: 31.4159\n"
     ]
    }
   ],
   "source": [
    "class Circle:\n",
    "    pi = 3.14159\n",
    "    def __init__(self,radius):\n",
    "        self.radius = radius\n",
    "        \n",
    "    def area(self):\n",
    "        area = self.pi * self.radius**2 \n",
    "        return area\n",
    "        \n",
    "    def circumference(self):\n",
    "        circum = 2 * self.pi * self.radius\n",
    "        return circum\n",
    "    \n",
    "circle = Circle(5)\n",
    "        \n",
    "print(\"Area:\", circle.area())\n",
    "print(\"Circumference:\", circle.circumference())"
   ]
  },
  {
   "cell_type": "markdown",
   "id": "5cf2ccaf",
   "metadata": {},
   "source": [
    "### 4. Create a class 'Employee' with a method to display employee details."
   ]
  },
  {
   "cell_type": "code",
   "execution_count": 21,
   "id": "3b3f70e2",
   "metadata": {},
   "outputs": [
    {
     "name": "stdout",
     "output_type": "stream",
     "text": [
      " Employee Id : 123\n",
      " Employee Name : Ali\n",
      " Employee Age : 25\n"
     ]
    }
   ],
   "source": [
    "class Employee:\n",
    "    def __init__(self, emp_id , emp_name, emp_age):\n",
    "        self.emp_id = emp_id \n",
    "        self.emp_name = emp_name\n",
    "        self.emp_age = emp_age \n",
    "    def display(self):\n",
    "        print(f\" Employee Id : {self.emp_id}\\n Employee Name : {self.emp_name}\\n Employee Age : {self.emp_age}\")\n",
    "emp = Employee(123, \"Ali\", 25)\n",
    "\n",
    "emp.display()"
   ]
  },
  {
   "cell_type": "markdown",
   "id": "765db2f1",
   "metadata": {},
   "source": [
    "### 5. Implement a class 'Book' to store book title, author and price. Add a method to show details."
   ]
  },
  {
   "cell_type": "code",
   "execution_count": 24,
   "id": "5a86df3d",
   "metadata": {},
   "outputs": [
    {
     "name": "stdout",
     "output_type": "stream",
     "text": [
      " Book title : Data Scince\n",
      " Book author : Fazal\n",
      " Book price : 2999\n"
     ]
    }
   ],
   "source": [
    "class Book:\n",
    "    def __init__(self, title, author, price):\n",
    "        self.title = title\n",
    "        self.author = author\n",
    "        self.price = price \n",
    "    def show(self):\n",
    "        print(f\" Book title : {self.title}\\n Book author : {self.author}\\n Book price : {self.price}\")\n",
    "\n",
    "book = Book(\"Data Scince\", \"Fazal\", 2999)\n",
    "              \n",
    "book.show()"
   ]
  },
  {
   "cell_type": "markdown",
   "id": "583d34fe",
   "metadata": {},
   "source": [
    "### 6. Design a class 'Calculator' with methods to add, subtract, multiply and divide two numbers."
   ]
  },
  {
   "cell_type": "code",
   "execution_count": 26,
   "id": "74d4254a",
   "metadata": {},
   "outputs": [
    {
     "name": "stdout",
     "output_type": "stream",
     "text": [
      "Addition : 30\n",
      "Subtraction: -10\n",
      "Multiplication : 200\n"
     ]
    }
   ],
   "source": [
    "class Calculator:\n",
    "    def __init__(self, num1 , num2):\n",
    "        self.num1 = num1 \n",
    "        self.num2 = num2 \n",
    "        \n",
    "    def add(self):\n",
    "        return self.num1 + self.num2\n",
    "    \n",
    "    def subtract(self):\n",
    "        return self.num1 - self.num2\n",
    "    \n",
    "    def multiply(self):\n",
    "        return self.num1 * self.num2\n",
    "    \n",
    "calculate = Calculator(10 , 20)\n",
    "print(f\"Addition : {calculate.add()}\\nSubtraction: {calculate.subtract()}\\nMultiplication : {calculate.multiply()}\")\n",
    "\n",
    "        "
   ]
  },
  {
   "cell_type": "markdown",
   "id": "6c05f9e2",
   "metadata": {},
   "source": [
    "### 7. Create a class 'BankAccount' with deposit and withdraw methods and display current balance.\n"
   ]
  },
  {
   "cell_type": "code",
   "execution_count": 27,
   "id": "6da59ccd",
   "metadata": {},
   "outputs": [
    {
     "name": "stdout",
     "output_type": "stream",
     "text": [
      "Deposited: 500\n",
      "Withdrawn: 200\n",
      "Current Balance: 1300\n"
     ]
    }
   ],
   "source": [
    "class BankAccount:\n",
    "    def __init__(self, initial_balance=0):\n",
    "        self.balance = initial_balance\n",
    "\n",
    "    def deposit(self, amount):\n",
    "        if amount > 0:\n",
    "            self.balance += amount\n",
    "            print(f\"Deposited: {amount}\")\n",
    "        else:\n",
    "            print(\"Deposit amount must be positive.\")\n",
    "\n",
    "    def withdraw(self, amount):\n",
    "        if amount <= self.balance:\n",
    "            self.balance -= amount\n",
    "            print(f\"Withdrawn: {amount}\")\n",
    "        else:\n",
    "            print(\"Insufficient balance.\")\n",
    "\n",
    "    def display_balance(self):\n",
    "        print(f\"Current Balance: {self.balance}\")\n",
    "\n",
    "account = BankAccount(1000)\n",
    "account.deposit(500)\n",
    "account.withdraw(200)\n",
    "account.display_balance()\n"
   ]
  },
  {
   "cell_type": "markdown",
   "id": "ef2dcf6f",
   "metadata": {},
   "source": [
    "### 8. Define a class 'Rectangle' with width and height. Add a method to calculate area and perimeter.\n"
   ]
  },
  {
   "cell_type": "code",
   "execution_count": 28,
   "id": "67c2a15d",
   "metadata": {},
   "outputs": [
    {
     "name": "stdout",
     "output_type": "stream",
     "text": [
      "Area: 28\n",
      "Perimeter: 22\n"
     ]
    }
   ],
   "source": [
    "class Rectangle:\n",
    "    def __init__(self, width, height):\n",
    "        self.width = width\n",
    "        self.height = height\n",
    "\n",
    "    def area(self):\n",
    "        return self.width * self.height\n",
    "\n",
    "    def perimeter(self):\n",
    "        return 2 * (self.width + self.height)\n",
    "\n",
    "rect = Rectangle(4, 7)\n",
    "print(\"Area:\", rect.area())\n",
    "print(\"Perimeter:\", rect.perimeter())\n"
   ]
  },
  {
   "cell_type": "markdown",
   "id": "c9a610ec",
   "metadata": {},
   "source": [
    "### 9. Write a class 'Person' with a greeting method and test it with different names.\n"
   ]
  },
  {
   "cell_type": "code",
   "execution_count": 29,
   "id": "e6871a04",
   "metadata": {},
   "outputs": [
    {
     "name": "stdout",
     "output_type": "stream",
     "text": [
      "Hello, Ali! Welcome!\n",
      "Hello, Ayesha! Welcome!\n",
      "Hello, Zain! Welcome!\n"
     ]
    }
   ],
   "source": [
    "class Person:\n",
    "    def __init__(self, name):\n",
    "        self.name = name\n",
    "\n",
    "    def greet(self):\n",
    "        print(f\"Hello, {self.name}! Welcome!\")\n",
    "\n",
    "# Example usage\n",
    "person1 = Person(\"Ali\")\n",
    "person2 = Person(\"Ayesha\")\n",
    "person3 = Person(\"Zain\")\n",
    "\n",
    "person1.greet()\n",
    "person2.greet()\n",
    "person3.greet()"
   ]
  },
  {
   "cell_type": "markdown",
   "id": "ed3b4690",
   "metadata": {},
   "source": [
    "📅 28-07-2025 | Day 13 | OOP Advanced\n",
    "\n",
    "Subtopics: Inheritance, Polymorphism, Abstraction, Encapsulation\n",
    "\n"
   ]
  },
  {
   "cell_type": "markdown",
   "id": "858e7308",
   "metadata": {},
   "source": [
    "### 10. Make a class 'Laptop' with attributes brand, RAM, and processor. Display them using a method.\n"
   ]
  },
  {
   "cell_type": "code",
   "execution_count": 30,
   "id": "655c13ed",
   "metadata": {},
   "outputs": [
    {
     "name": "stdout",
     "output_type": "stream",
     "text": [
      "Laptop Specifications:\n",
      "Brand: Dell\n",
      "RAM: 16GB\n",
      "Processor: Intel Core i7\n",
      "\n",
      "Laptop Specifications:\n",
      "Brand: HP\n",
      "RAM: 8GB\n",
      "Processor: AMD Ryzen 5\n"
     ]
    }
   ],
   "source": [
    "class Laptop:\n",
    "    def __init__(self, brand, ram, processor):\n",
    "        self.brand = brand\n",
    "        self.ram = ram\n",
    "        self.processor = processor\n",
    "\n",
    "    def display_specs(self):\n",
    "        print(f\"Laptop Specifications:\")\n",
    "        print(f\"Brand: {self.brand}\")\n",
    "        print(f\"RAM: {self.ram}\")\n",
    "        print(f\"Processor: {self.processor}\")\n",
    "\n",
    "        \n",
    "laptop1 = Laptop(\"Dell\", \"16GB\", \"Intel Core i7\")\n",
    "laptop2 = Laptop(\"HP\", \"8GB\", \"AMD Ryzen 5\")\n",
    "\n",
    "laptop1.display_specs()\n",
    "print()  \n",
    "laptop2.display_specs()\n"
   ]
  },
  {
   "cell_type": "markdown",
   "id": "92deb468",
   "metadata": {},
   "source": [
    "### 11. Create a base class 'Animal' and derived classes 'Dog' and 'Cat'. Demonstrate inheritance."
   ]
  },
  {
   "cell_type": "code",
   "execution_count": 1,
   "id": "65733a0a",
   "metadata": {},
   "outputs": [
    {
     "name": "stdout",
     "output_type": "stream",
     "text": [
      "Dog barks\n",
      "Cat meows\n"
     ]
    }
   ],
   "source": [
    "class Animal:\n",
    "    def speak(self):\n",
    "        print(\"Animal makes a sound\")\n",
    "\n",
    "class Dog(Animal):\n",
    "    def speak(self):\n",
    "        print(\"Dog barks\")\n",
    "\n",
    "class Cat(Animal):\n",
    "    def speak(self):\n",
    "        print(\"Cat meows\")\n",
    "\n",
    "# Testing\n",
    "dog = Dog()\n",
    "cat = Cat()\n",
    "dog.speak()\n",
    "cat.speak()\n"
   ]
  },
  {
   "cell_type": "markdown",
   "id": "6ec5b15b",
   "metadata": {},
   "source": [
    "### 12. Implement method overriding in a class hierarchy involving 'Shape' -> 'Square' and 'Circle'."
   ]
  },
  {
   "cell_type": "code",
   "execution_count": 2,
   "id": "eecb492f",
   "metadata": {},
   "outputs": [
    {
     "name": "stdout",
     "output_type": "stream",
     "text": [
      "Square area: 16\n",
      "Circle area: 28.2744\n"
     ]
    }
   ],
   "source": [
    "class Shape:\n",
    "    def area(self):\n",
    "        print(\"Calculating area...\")\n",
    "\n",
    "class Square(Shape):\n",
    "    def __init__(self, side):\n",
    "        self.side = side\n",
    "\n",
    "    def area(self):\n",
    "        print(f\"Square area: {self.side ** 2}\")\n",
    "\n",
    "class Circle(Shape):\n",
    "    def __init__(self, radius):\n",
    "        self.radius = radius\n",
    "\n",
    "    def area(self):\n",
    "        print(f\"Circle area: {3.1416 * self.radius ** 2}\")\n",
    "\n",
    "# Testing\n",
    "s = Square(4)\n",
    "c = Circle(3)\n",
    "s.area()\n",
    "c.area()\n"
   ]
  },
  {
   "cell_type": "markdown",
   "id": "1661da09",
   "metadata": {},
   "source": [
    "### 13. Write a program to demonstrate polymorphism using a base class 'Vehicle' and derived classes."
   ]
  },
  {
   "cell_type": "code",
   "execution_count": 3,
   "id": "1c9f826d",
   "metadata": {},
   "outputs": [
    {
     "name": "stdout",
     "output_type": "stream",
     "text": [
      "Car engine started.\n",
      "Bike engine started.\n"
     ]
    }
   ],
   "source": [
    "class Vehicle:\n",
    "    def start_engine(self):\n",
    "        print(\"Starting vehicle engine...\")\n",
    "\n",
    "class Car(Vehicle):\n",
    "    def start_engine(self):\n",
    "        print(\"Car engine started.\")\n",
    "\n",
    "class Bike(Vehicle):\n",
    "    def start_engine(self):\n",
    "        print(\"Bike engine started.\")\n",
    "\n",
    "# Polymorphic behavior\n",
    "def start_vehicle(vehicle):\n",
    "    vehicle.start_engine()\n",
    "\n",
    "start_vehicle(Car())\n",
    "start_vehicle(Bike())\n"
   ]
  },
  {
   "cell_type": "markdown",
   "id": "f9b92ea3",
   "metadata": {},
   "source": [
    "### 14. Use abstract base class 'Payment' with abstract method 'pay'. Create subclasses for CardPayment and CashPayment."
   ]
  },
  {
   "cell_type": "code",
   "execution_count": 4,
   "id": "ccae805e",
   "metadata": {},
   "outputs": [
    {
     "name": "stdout",
     "output_type": "stream",
     "text": [
      "Paid 1000 using Card.\n",
      "Paid 500 in Cash.\n"
     ]
    }
   ],
   "source": [
    "from abc import ABC, abstractmethod\n",
    "\n",
    "class Payment(ABC):\n",
    "    @abstractmethod\n",
    "    def pay(self, amount):\n",
    "        pass\n",
    "\n",
    "class CardPayment(Payment):\n",
    "    def pay(self, amount):\n",
    "        print(f\"Paid {amount} using Card.\")\n",
    "\n",
    "class CashPayment(Payment):\n",
    "    def pay(self, amount):\n",
    "        print(f\"Paid {amount} in Cash.\")\n",
    "\n",
    "# Testing\n",
    "cp = CardPayment()\n",
    "cash = CashPayment()\n",
    "cp.pay(1000)\n",
    "cash.pay(500)\n"
   ]
  },
  {
   "cell_type": "markdown",
   "id": "f8c31058",
   "metadata": {},
   "source": [
    "### 15. Demonstrate encapsulation by creating a class 'Account' with private attributes and getter/setter methods."
   ]
  },
  {
   "cell_type": "code",
   "execution_count": null,
   "id": "28060d6c",
   "metadata": {},
   "outputs": [],
   "source": [
    "class Account:\n",
    "    def __init__(self, owner, balance):\n",
    "        self.__owner = owner      # private attribute\n",
    "        self.__balance = balance  # private attribute\n",
    "\n",
    "    def get_balance(self):\n",
    "        return self.__balance\n",
    "\n",
    "    def set_balance(self, amount):\n",
    "        if amount >= 0:\n",
    "            self.__balance = amount\n",
    "        else:\n",
    "            print(\"Invalid amount!\")\n",
    "\n",
    "    def get_owner(self):\n",
    "        return self.__owner\n",
    "\n",
    "# Testing\n",
    "acc = Account(\"John\", 1000)\n",
    "print(\"Owner:\", acc.get_owner())\n",
    "print(\"Balance:\", acc.get_balance())\n",
    "\n",
    "acc.set_balance(2000)\n",
    "print(\"Updated Balance:\", acc.get_balance())\n"
   ]
  }
 ],
 "metadata": {
  "kernelspec": {
   "display_name": "Python 3 (ipykernel)",
   "language": "python",
   "name": "python3"
  },
  "language_info": {
   "codemirror_mode": {
    "name": "ipython",
    "version": 3
   },
   "file_extension": ".py",
   "mimetype": "text/x-python",
   "name": "python",
   "nbconvert_exporter": "python",
   "pygments_lexer": "ipython3",
   "version": "3.11.4"
  }
 },
 "nbformat": 4,
 "nbformat_minor": 5
}
