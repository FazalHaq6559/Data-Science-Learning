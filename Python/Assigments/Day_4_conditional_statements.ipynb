{
 "cells": [
  {
   "cell_type": "markdown",
   "id": "0e468526",
   "metadata": {},
   "source": [
    "# Python Programming \n",
    "📅 **Date:** 18-07-2025  \n",
    "📍 **Day:** 04\n",
    "\n",
    "📘 **Topic:** 🔹 Conditional Statements Practice (if, elif, else)\n",
    "---\n"
   ]
  },
  {
   "cell_type": "markdown",
   "id": "9cd7f863",
   "metadata": {},
   "source": [
    "<b>Q1. Write a Python program that checks if a number is positive, negative, or zero."
   ]
  },
  {
   "cell_type": "code",
   "execution_count": 1,
   "id": "d58a58ac",
   "metadata": {},
   "outputs": [
    {
     "name": "stdout",
     "output_type": "stream",
     "text": [
      "Enter a number : -23\n",
      "Negative\n"
     ]
    }
   ],
   "source": [
    "number = int(input(\"Enter a number : \"))\n",
    "\n",
    "if number > 0: \n",
    "    print(\"Positive\")\n",
    "elif number < 0: \n",
    "    print(\"Negative\")\n",
    "else:\n",
    "    print(\"Zero\")"
   ]
  },
  {
   "cell_type": "markdown",
   "id": "df5cd19e",
   "metadata": {},
   "source": [
    "<b>Q2. Ask the user to enter their age. Print:\n",
    "\n",
    "“Minor” if age < 18\n",
    "                   \n",
    "“Adult” if 18 ≤ age < 60\n",
    "    \n",
    "“Senior” if age ≥ 60\n"
   ]
  },
  {
   "cell_type": "code",
   "execution_count": 2,
   "id": "8a141381",
   "metadata": {},
   "outputs": [
    {
     "name": "stdout",
     "output_type": "stream",
     "text": [
      "Enter your age : 25\n",
      "Adult\n"
     ]
    }
   ],
   "source": [
    "age = int(input(\"Enter your age : \"))\n",
    "\n",
    "if age < 18:\n",
    "    print(\"Minor\")\n",
    "elif age >= 18 and age < 60:\n",
    "    print(\"Adult\")\n",
    "else:\n",
    "    print(\"Senior\")"
   ]
  },
  {
   "cell_type": "markdown",
   "id": "c65988d6",
   "metadata": {},
   "source": [
    "<b>Q3. Write a program to check whether a given number is divisible by 3 and 5 both.\n"
   ]
  },
  {
   "cell_type": "code",
   "execution_count": 3,
   "id": "1288c53b",
   "metadata": {},
   "outputs": [
    {
     "name": "stdout",
     "output_type": "stream",
     "text": [
      "Enter a number 15\n",
      "Divisible by 3 and 5\n"
     ]
    }
   ],
   "source": [
    "num = int(input(\"Enter a number \"))\n",
    "\n",
    "if num % 3 == 0 and num % 5 == 0:\n",
    "    print(\"Divisible by 3 and 5\")\n",
    "else:\n",
    "    print(\"Not divisible\")\n",
    "\n"
   ]
  },
  {
   "cell_type": "markdown",
   "id": "1abd30aa",
   "metadata": {},
   "source": [
    "<b>Q4. Take a user's input for marks (0–100). Print their grade as:\n",
    "\n",
    "    A (≥90), B (80–89), C (70–79), D (60–69), F (<60)\n"
   ]
  },
  {
   "cell_type": "code",
   "execution_count": 4,
   "id": "967c98fa",
   "metadata": {},
   "outputs": [
    {
     "name": "stdout",
     "output_type": "stream",
     "text": [
      "Enter your marks: 65\n",
      "Grade: D\n"
     ]
    }
   ],
   "source": [
    "marks = int(input(\"Enter your marks: \"))\n",
    "\n",
    "if marks >= 90:\n",
    "    print(\"Grade: A\")\n",
    "elif marks >= 80:\n",
    "    print(\"Grade: B\")\n",
    "elif marks >= 70:\n",
    "    print(\"Grade: C\")\n",
    "elif marks >= 60:\n",
    "    print(\"Grade: D\")\n",
    "else:\n",
    "    print(\"Grade: F\")"
   ]
  },
  {
   "cell_type": "markdown",
   "id": "4f605cb0",
   "metadata": {},
   "source": [
    "<b>Q5. Ask the user to enter a year. Print whether it is a leap year or not."
   ]
  },
  {
   "cell_type": "markdown",
   "id": "a203b311",
   "metadata": {},
   "source": [
    ".\n",
    "\n",
    "🔹 Leap Year Rules\n",
    "\n",
    "A year is a leap year if:\n",
    "\n",
    "→It is divisible by 4\n",
    "\n",
    "→Except years that are divisible by 100\n",
    "\n",
    "→Unless the year is also divisible by 400\n",
    "\n",
    "Examples of Leap Years:\n",
    "\n",
    "2000 → (divisible by 400)\n",
    "\n",
    "2016 → (divisible by 4, not by 100)\n",
    "\n",
    "\n"
   ]
  },
  {
   "cell_type": "code",
   "execution_count": null,
   "id": "c0389a47",
   "metadata": {},
   "outputs": [],
   "source": [
    "year = int(input(\"Enter a year :\"))\n",
    "\n",
    "if (year % 4 == 0 and year % 100 != 0 ) or (year % 400 == 0):\n",
    "    print(\"Leap year\")\n",
    "else: \n",
    "    print(\"Not a leap year\")"
   ]
  },
  {
   "cell_type": "markdown",
   "id": "11069ef6",
   "metadata": {},
   "source": [
    "<b>🔹 Nested If Statements\n"
   ]
  },
  {
   "cell_type": "markdown",
   "id": "a5853359",
   "metadata": {},
   "source": [
    "<b>Q6. Write a program to check if a number is positive and even.\n"
   ]
  },
  {
   "cell_type": "code",
   "execution_count": 10,
   "id": "087ac6ff",
   "metadata": {},
   "outputs": [
    {
     "name": "stdout",
     "output_type": "stream",
     "text": [
      "Enter a number : 12\n",
      "Positive and even\n"
     ]
    }
   ],
   "source": [
    "num = int(input(\"Enter a number : \"))\n",
    "\n",
    "if num > 0 :\n",
    "    if num % 2 == 0:\n",
    "        print(\"Positive and even\")\n",
    "    else:\n",
    "        print(\"Postive and odd\")\n",
    "else:\n",
    "    print(\"negative\")"
   ]
  },
  {
   "cell_type": "markdown",
   "id": "9d29fb14",
   "metadata": {},
   "source": [
    "<b>Q7. Take three numbers as input and print the largest using nested if.\n"
   ]
  },
  {
   "cell_type": "code",
   "execution_count": 15,
   "id": "843609f3",
   "metadata": {},
   "outputs": [
    {
     "name": "stdout",
     "output_type": "stream",
     "text": [
      "Enter 1st number : 12\n",
      "Enter 2nd number : 15\n",
      "Enter 3rd number : 13\n",
      "Largest: 15\n"
     ]
    }
   ],
   "source": [
    "num_1 = int(input(\"Enter 1st number : \"))\n",
    "num_2 = int(input(\"Enter 2nd number : \"))\n",
    "num_3 = int(input(\"Enter 3rd number : \"))\n",
    "\n",
    "\n",
    "\n",
    "if num_1 >= num_2:\n",
    "    if num_1 >= num_3:\n",
    "        print(\"Largest:\", num_1)\n",
    "    else:\n",
    "        print(\"Largest:\", num_3)\n",
    "else:\n",
    "    if num_2 >= num_3:\n",
    "        print(\"Largest:\", num_2)\n",
    "    else:\n",
    "        print(\"Largest:\", num_3)"
   ]
  },
  {
   "cell_type": "markdown",
   "id": "b8c17ff1",
   "metadata": {},
   "source": [
    "<b>Q8. Ask the user to enter a password. If the password is correct, ask for a security code. If both are correct, print “Access Granted”; else, print appropriate error messages."
   ]
  },
  {
   "cell_type": "code",
   "execution_count": 17,
   "id": "d01808f6",
   "metadata": {},
   "outputs": [
    {
     "name": "stdout",
     "output_type": "stream",
     "text": [
      "Enter password: Fazal123\n",
      "Enter security code: 4321\n",
      "Access Granted\n"
     ]
    }
   ],
   "source": [
    "password = input(\"Enter password: \")\n",
    "correct_password = \"Fazal123\"\n",
    "correct_sec_code = \"4321\"\n",
    "if password == correct_password:\n",
    "    code = input(\"Enter security code: \")\n",
    "    if code == correct_sec_code:\n",
    "        print(\"Access Granted\")\n",
    "    else:\n",
    "        print(\"Incorrect security code\")\n",
    "else:\n",
    "    print(\"Incorrect password\")"
   ]
  },
  {
   "cell_type": "markdown",
   "id": "bcd0c338",
   "metadata": {},
   "source": [
    "<b>🔹 Loop Control: break, continue, pass\n"
   ]
  },
  {
   "cell_type": "markdown",
   "id": "714880d2",
   "metadata": {},
   "source": [
    "<b>Q9. Write a loop that prints numbers from 1 to 10, but stops if it reaches 6.\n"
   ]
  },
  {
   "cell_type": "code",
   "execution_count": 18,
   "id": "7e5260fb",
   "metadata": {},
   "outputs": [
    {
     "name": "stdout",
     "output_type": "stream",
     "text": [
      "1\n",
      "2\n",
      "3\n",
      "4\n",
      "5\n"
     ]
    }
   ],
   "source": [
    "for i in range(1, 11):\n",
    "    if i == 6:\n",
    "        break\n",
    "    print(i)\n"
   ]
  },
  {
   "cell_type": "markdown",
   "id": "c2571527",
   "metadata": {},
   "source": [
    "<b>Q10. Write a loop that prints all numbers from 1 to 10, but skips printing 5.\n"
   ]
  },
  {
   "cell_type": "code",
   "execution_count": 23,
   "id": "77a6c394",
   "metadata": {},
   "outputs": [
    {
     "name": "stdout",
     "output_type": "stream",
     "text": [
      "1\n",
      "2\n",
      "3\n",
      "4\n",
      "Skiping  5\n",
      "6\n",
      "7\n",
      "8\n",
      "9\n",
      "10\n"
     ]
    }
   ],
   "source": [
    "for i in range(1, 11):\n",
    "    if i == 5:\n",
    "        print(\"Skiping \", i)\n",
    "        continue  # Skip the number 5\n",
    "    print(i)"
   ]
  },
  {
   "cell_type": "markdown",
   "id": "80dca3af",
   "metadata": {},
   "source": [
    "<b>Q11. Use pass inside a loop that runs from 1 to 5. Explain its effect."
   ]
  },
  {
   "cell_type": "code",
   "execution_count": 24,
   "id": "597de191",
   "metadata": {},
   "outputs": [
    {
     "name": "stdout",
     "output_type": "stream",
     "text": [
      "1\n",
      "2\n",
      "3\n",
      "4\n",
      "5\n"
     ]
    }
   ],
   "source": [
    "for i in range(1, 6):\n",
    "    if i == 3:\n",
    "        # pass is a placeholder that does nothing\n",
    "        # It's used when a statement is syntactically required but no action is needed\n",
    "        pass\n",
    "    print(i)\n",
    "#pass is a no-operation statement.\n",
    "\n",
    "#It does nothing when executed.\n",
    "\n",
    "#It's useful when you need to write a loop, function, or class structure, but haven't decided what to put inside yet."
   ]
  },
  {
   "cell_type": "markdown",
   "id": "e2a2aadf",
   "metadata": {},
   "source": [
    "<b>Q12. Use a while loop that keeps asking the user to enter a number. If the user enters 0, break the loop.\n"
   ]
  },
  {
   "cell_type": "code",
   "execution_count": 26,
   "id": "04ec62f6",
   "metadata": {},
   "outputs": [
    {
     "name": "stdout",
     "output_type": "stream",
     "text": [
      "Enter a number (0 to stop): 23\n",
      "You entered: 23\n",
      "Enter a number (0 to stop): 23\n",
      "You entered: 23\n",
      "Enter a number (0 to stop): 24\n",
      "You entered: 24\n",
      "Enter a number (0 to stop): 65\n",
      "You entered: 65\n",
      "Enter a number (0 to stop): 0\n"
     ]
    }
   ],
   "source": [
    "while True:\n",
    "    num = int(input(\"Enter a number (0 to stop): \"))\n",
    "    if num == 0:\n",
    "        # Break the loop if the user enters 0\n",
    "        break\n",
    "    print(\"You entered:\", num)"
   ]
  },
  {
   "cell_type": "markdown",
   "id": "db7f014d",
   "metadata": {},
   "source": [
    "<b>Q13. Iterate over a list of numbers. Print only the even numbers using continue.\n"
   ]
  },
  {
   "cell_type": "code",
   "execution_count": 27,
   "id": "5ded388d",
   "metadata": {},
   "outputs": [
    {
     "name": "stdout",
     "output_type": "stream",
     "text": [
      "2\n",
      "4\n",
      "6\n",
      "8\n",
      "10\n"
     ]
    }
   ],
   "source": [
    "numbers = [1, 2, 3, 4, 5, 6, 7, 8, 9, 10]\n",
    "\n",
    "for num in numbers:\n",
    "    if num % 2 != 0:\n",
    "        # Skip odd numbers\n",
    "        continue\n",
    "    print(num)"
   ]
  },
  {
   "cell_type": "markdown",
   "id": "915019cf",
   "metadata": {},
   "source": [
    "<b>Q14. Create a loop that prints numbers from 1 to 10. If the number is a multiple of 4, skip it using continue."
   ]
  },
  {
   "cell_type": "code",
   "execution_count": 29,
   "id": "f3cc0b72",
   "metadata": {},
   "outputs": [
    {
     "name": "stdout",
     "output_type": "stream",
     "text": [
      "1\n",
      "2\n",
      "3\n",
      "5\n",
      "6\n",
      "7\n",
      "9\n",
      "10\n"
     ]
    }
   ],
   "source": [
    "for num in range(1, 11):\n",
    "    if num % 4 == 0:\n",
    "        # Skip numbers that are multiples of 4\n",
    "        continue\n",
    "    print(num)"
   ]
  },
  {
   "cell_type": "markdown",
   "id": "8daee6da",
   "metadata": {},
   "source": [
    "<b>Q15. Write a program using a loop that prints numbers from 1 to 20. When it reaches a number divisible by both 3 and 5, break the loop and print \"Found it!\""
   ]
  },
  {
   "cell_type": "code",
   "execution_count": 31,
   "id": "8dba160d",
   "metadata": {},
   "outputs": [
    {
     "name": "stdout",
     "output_type": "stream",
     "text": [
      "1\n",
      "2\n",
      "3\n",
      "4\n",
      "5\n",
      "6\n",
      "7\n",
      "8\n",
      "9\n",
      "10\n",
      "11\n",
      "12\n",
      "13\n",
      "14\n",
      "Found it!\n"
     ]
    }
   ],
   "source": [
    "for num in range(1, 21):\n",
    "    if num % 3 == 0 and num % 5 == 0:\n",
    "        print(\"Found it!\")\n",
    "        break  # Exit the loop when number is divisible by both 3 and 5\n",
    "    print(num)\n",
    "    "
   ]
  },
  {
   "cell_type": "code",
   "execution_count": null,
   "id": "bb781206",
   "metadata": {},
   "outputs": [],
   "source": []
  }
 ],
 "metadata": {
  "kernelspec": {
   "display_name": "Python 3 (ipykernel)",
   "language": "python",
   "name": "python3"
  },
  "language_info": {
   "codemirror_mode": {
    "name": "ipython",
    "version": 3
   },
   "file_extension": ".py",
   "mimetype": "text/x-python",
   "name": "python",
   "nbconvert_exporter": "python",
   "pygments_lexer": "ipython3",
   "version": "3.11.4"
  }
 },
 "nbformat": 4,
 "nbformat_minor": 5
}
