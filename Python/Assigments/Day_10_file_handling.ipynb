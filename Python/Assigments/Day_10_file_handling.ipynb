{
 "cells": [
  {
   "cell_type": "markdown",
   "id": "f78c57d8",
   "metadata": {},
   "source": [
    "# 📅 25-07-2025 | Friday | Day 10 | Topic: File Handling\n",
    "## 🎯 Source: Code with Harry\n",
    "\n",
    "# 📝 15 Coding Questions on File Handling in Python\n",
    "\n",
    "#### 📚 Tip: Use built-in functions like open(), read(), write(), readlines(), os.path.exists(), etc., to solve the problems below.\n"
   ]
  },
  {
   "cell_type": "markdown",
   "id": "f3e0fff4",
   "metadata": {},
   "source": [
    "### 1. Write a Python program to create a new file and write some text into it.\n"
   ]
  },
  {
   "cell_type": "code",
   "execution_count": 59,
   "id": "e918b3c4",
   "metadata": {},
   "outputs": [],
   "source": [
    "file = open(\"example.txt\",\"w\")\n",
    "file.write(\"Hello! this is my first file\")\n",
    "file.close()"
   ]
  },
  {
   "cell_type": "markdown",
   "id": "85e999a0",
   "metadata": {},
   "source": [
    "## 2. Write a program to read the contents of a text file and display them.\n"
   ]
  },
  {
   "cell_type": "code",
   "execution_count": 7,
   "id": "c876550a",
   "metadata": {},
   "outputs": [
    {
     "name": "stdout",
     "output_type": "stream",
     "text": [
      "Hello! this is my first file\n"
     ]
    }
   ],
   "source": [
    "file = open(\"example.txt\", 'r')\n",
    "content = file.read()\n",
    "print(content)\n",
    "file.close()"
   ]
  },
  {
   "cell_type": "markdown",
   "id": "9c43c355",
   "metadata": {},
   "source": [
    "## 3. Write a program to append a line to an existing file."
   ]
  },
  {
   "cell_type": "code",
   "execution_count": 15,
   "id": "f6a3f733",
   "metadata": {},
   "outputs": [],
   "source": [
    "file = open(\"example.txt\", 'a')\n",
    "second_line = (\"\\nThis is second line in the first file\")\n",
    "file.write(second_line)\n",
    "file.close()"
   ]
  },
  {
   "cell_type": "markdown",
   "id": "a2bb697a",
   "metadata": {},
   "source": [
    "## 4. Create a program to count the number of words in a text file."
   ]
  },
  {
   "cell_type": "code",
   "execution_count": 58,
   "id": "fcf323d7",
   "metadata": {},
   "outputs": [
    {
     "data": {
      "text/plain": [
       "22"
      ]
     },
     "execution_count": 58,
     "metadata": {},
     "output_type": "execute_result"
    }
   ],
   "source": [
    "file = open(\"example.txt\", 'r')\n",
    "text = file.read()\n",
    "words = text.split()\n",
    "count = len(words)\n",
    "count"
   ]
  },
  {
   "cell_type": "markdown",
   "id": "116d25f3",
   "metadata": {},
   "source": [
    "## 5. Write a program that reads a file and counts the number of lines in it.\n"
   ]
  },
  {
   "cell_type": "code",
   "execution_count": 19,
   "id": "1b0c403f",
   "metadata": {},
   "outputs": [
    {
     "data": {
      "text/plain": [
       "3"
      ]
     },
     "execution_count": 19,
     "metadata": {},
     "output_type": "execute_result"
    }
   ],
   "source": [
    "file = open(\"example.txt\", 'r')\n",
    "text = file.read()\n",
    "line = text.split('\\n') # split by new line \n",
    "count = len(line)\n",
    "count"
   ]
  },
  {
   "cell_type": "markdown",
   "id": "25e2cd0c",
   "metadata": {},
   "source": [
    "## 6. Write a program to copy the contents of one file to another.\n"
   ]
  },
  {
   "cell_type": "code",
   "execution_count": 23,
   "id": "299d619a",
   "metadata": {},
   "outputs": [],
   "source": [
    "file = open(\"example.txt\", 'r')\n",
    "content = file.read()\n",
    "\n",
    "file2 = open(\"example2.txt\",'w')\n",
    "file2.write(content)\n",
    "file2.close()\n"
   ]
  },
  {
   "cell_type": "markdown",
   "id": "efa0751e",
   "metadata": {},
   "source": [
    "## 7. Write a program to read a file line by line and print each line.\n"
   ]
  },
  {
   "cell_type": "code",
   "execution_count": 26,
   "id": "0a80b627",
   "metadata": {},
   "outputs": [
    {
     "name": "stdout",
     "output_type": "stream",
     "text": [
      "Hello! this is my first file\n",
      "This is second line in the first file\n",
      "This is second line in the first file\n"
     ]
    }
   ],
   "source": [
    "with open(\"example2.txt\",'r') as file:\n",
    "    for line in file:\n",
    "        print(line.strip())"
   ]
  },
  {
   "cell_type": "markdown",
   "id": "0cb85d4a",
   "metadata": {},
   "source": [
    "## 8. Write a Python program to reverse the contents of a file."
   ]
  },
  {
   "cell_type": "code",
   "execution_count": 35,
   "id": "94eab286",
   "metadata": {},
   "outputs": [
    {
     "name": "stdout",
     "output_type": "stream",
     "text": [
      "elif tsrif eht ni enil dnoces si sihT\n",
      "elif tsrif eht ni enil dnoces si sihT\n",
      "elif tsrif ym si siht !olleH\n"
     ]
    }
   ],
   "source": [
    "# using functions and error handling \n",
    "def reverse_content(src_file):\n",
    "    \n",
    "    try:\n",
    "        with open(src_file, 'r') as file:\n",
    "            content = file.read()\n",
    "            reverse = content[::-1]\n",
    "            print(reverse)\n",
    "    except FileNotFoundError:\n",
    "        print(f\"{src_file} does not exist.\")\n",
    "\n",
    "reverse_content(\"example.txt\")"
   ]
  },
  {
   "cell_type": "markdown",
   "id": "58703e94",
   "metadata": {},
   "source": [
    "## 9. Write a program to read a CSV file and display its content.\n"
   ]
  },
  {
   "cell_type": "code",
   "execution_count": 43,
   "id": "d11edae2",
   "metadata": {},
   "outputs": [
    {
     "name": "stdout",
     "output_type": "stream",
     "text": [
      "['school', 'sex', 'age', 'address']\n",
      "['GP', 'F', '18', 'U']\n"
     ]
    }
   ],
   "source": [
    "# with open(\"student-raw-data.csv\", 'r') as file:\n",
    "#     content = file.read()\n",
    "#     print(content)\n",
    "\n",
    "import csv\n",
    "\n",
    "with open(\"student-raw-data.csv\" , 'r') as file:\n",
    "    content = csv.reader(file)\n",
    "    for row in content: # iterate over rows, return each row as list\n",
    "        print(row)"
   ]
  },
  {
   "cell_type": "markdown",
   "id": "23a02753",
   "metadata": {},
   "source": [
    "## 10. Write a program to merge the contents of two files into a third file.\n"
   ]
  },
  {
   "cell_type": "code",
   "execution_count": 50,
   "id": "ae09032a",
   "metadata": {},
   "outputs": [
    {
     "name": "stdout",
     "output_type": "stream",
     "text": [
      "Contents of file1 and file2 merged into output_file.\n",
      "Hello\n",
      "World\n"
     ]
    }
   ],
   "source": [
    "try:\n",
    "    # Create and write to file1 and file2\n",
    "    with open(\"file1.txt\", 'w') as f1:\n",
    "        f1.write(\"Hello\")\n",
    "        \n",
    "    with open(\"file2.txt\", 'w') as f2:\n",
    "        f2.write(\"World\")\n",
    "    \n",
    "    # Read from both files\n",
    "    with open(\"file1.txt\", 'r') as f1:\n",
    "        content1 = f1.read()\n",
    "    \n",
    "    with open(\"file2.txt\", 'r') as f2:\n",
    "        content2 = f2.read()\n",
    "    \n",
    "    # Write merged content to output file\n",
    "    with open(\"output_file.txt\", 'w') as out:\n",
    "        out.write(content1 + '\\n' + content2)\n",
    "\n",
    "    print(\"Contents of file1 and file2 merged into output_file.\")\n",
    "    \n",
    "    # read merged content \n",
    "    with open(\"output_file.txt\", 'r') as output:\n",
    "        print(output.read())\n",
    "\n",
    "except FileNotFoundError :\n",
    "    print(f\"Error: {filename} not found.\")"
   ]
  },
  {
   "cell_type": "markdown",
   "id": "6653db4a",
   "metadata": {},
   "source": [
    "## 11. Create a program that removes all blank lines from a text file.\n"
   ]
  },
  {
   "cell_type": "code",
   "execution_count": 52,
   "id": "dd0ac600",
   "metadata": {},
   "outputs": [
    {
     "name": "stdout",
     "output_type": "stream",
     "text": [
      "Blank lines removed. Cleaned content saved to 'cleaned_output.txt'.\n"
     ]
    }
   ],
   "source": [
    "try:\n",
    "    with open(\"example.txt\", 'r') as infile:\n",
    "        lines = infile.readlines()\n",
    "\n",
    "    non_blank_lines = [line for line in lines if line.strip() != '']\n",
    "\n",
    "    with open(\"cleaned_output.txt\", 'w') as outfile:\n",
    "        outfile.writelines(non_blank_lines)\n",
    "\n",
    "    print(\"Blank lines removed. Cleaned content saved to 'cleaned_output.txt'.\")\n",
    "\n",
    "except FileNotFoundError:\n",
    "    print(\"Error: 'input.txt' not found.\")\n"
   ]
  },
  {
   "cell_type": "markdown",
   "id": "e6a05cab",
   "metadata": {},
   "source": [
    "## 2. Write a program to find and replace a word in a text file.\n"
   ]
  },
  {
   "cell_type": "code",
   "execution_count": 54,
   "id": "583ae91d",
   "metadata": {},
   "outputs": [
    {
     "name": "stdout",
     "output_type": "stream",
     "text": [
      "All occurrences of 'Hello' replaced with 'Greetings'.\n",
      "Greetings\n",
      "World\n"
     ]
    }
   ],
   "source": [
    "try:\n",
    "    with open(\"output_file.txt\", 'r') as file:\n",
    "        content = file.read()\n",
    "\n",
    "    # Define the word to find and its replacement\n",
    "    word_to_find = \"Hello\"\n",
    "    replacement_word = \"Greetings\"\n",
    "\n",
    "    updated_content = content.replace(word_to_find, replacement_word)\n",
    "\n",
    "    with open(\"output_file.txt\", 'w') as file:\n",
    "        file.write(updated_content)\n",
    "\n",
    "    print(f\"All occurrences of '{word_to_find}' replaced with '{replacement_word}'.\")\n",
    "    \n",
    "    with open(\"output_file.txt\", 'r') as output:\n",
    "        print(output.read())\n",
    "    \n",
    "\n",
    "except FileNotFoundError:\n",
    "    print(\"Error: 'input.txt' not found.\")"
   ]
  },
  {
   "cell_type": "markdown",
   "id": "5389b274",
   "metadata": {},
   "source": [
    "## 13. Write a Python script to read the last n lines of a file."
   ]
  },
  {
   "cell_type": "code",
   "execution_count": 55,
   "id": "f43a758a",
   "metadata": {},
   "outputs": [
    {
     "name": "stdout",
     "output_type": "stream",
     "text": [
      "4th line\n",
      "5thline\n",
      "6th line\n"
     ]
    }
   ],
   "source": [
    "try:\n",
    "    n = 3\n",
    "\n",
    "    with open(\"input.txt\", 'w') as file:\n",
    "        file.write(\"Firts line\\nSecond line\\n3rd line\\n4th line\\n5thline\\n6th line\")\n",
    "\n",
    "    with open(\"input.txt\", 'r') as file:\n",
    "        lines = file.readlines()\n",
    "\n",
    "    total_lines = len(lines)\n",
    "\n",
    "    if n > total_lines:\n",
    "        print(f\"File only has {total_lines} lines. Displaying all:\")\n",
    "        n = total_lines\n",
    "\n",
    "    for line in lines[-n:]:\n",
    "        print(line.strip())\n",
    "\n",
    "except FileNotFoundError:\n",
    "    print(\"Error: 'input.txt' not found.\")\n"
   ]
  },
  {
   "cell_type": "markdown",
   "id": "297bea28",
   "metadata": {},
   "source": [
    "## 14. Create a program that saves user input to a file until the user types \"exit\".\n"
   ]
  },
  {
   "cell_type": "code",
   "execution_count": 56,
   "id": "bd6b4a7f",
   "metadata": {},
   "outputs": [
    {
     "name": "stdout",
     "output_type": "stream",
     "text": [
      "Enter text (type 'exit' to stop): Hey, I am Fazal haq and i am learnog python programming\n",
      "Enter text (type 'exit' to stop): I am student of DSGuru\n",
      "Enter text (type 'exit' to stop): exit\n",
      "User input saved to 'user_input.txt'.\n"
     ]
    }
   ],
   "source": [
    "try:\n",
    "    with open(\"user_input.txt\", 'w') as file:\n",
    "        while True:\n",
    "            line = input(\"Enter text (type 'exit' to stop): \")\n",
    "            if line.lower() == \"exit\":\n",
    "                break\n",
    "            file.write(line + \"\\n\")\n",
    "\n",
    "    print(\"User input saved to 'user_input.txt'.\")\n",
    "    \n",
    "\n",
    "except Exception as e:\n",
    "    print(\"An error occurred:\", e)"
   ]
  },
  {
   "cell_type": "markdown",
   "id": "8ea402a8",
   "metadata": {},
   "source": [
    "## 15. Write a program to check if a file exists and print its size in bytes."
   ]
  },
  {
   "cell_type": "code",
   "execution_count": 60,
   "id": "2b5b907c",
   "metadata": {},
   "outputs": [
    {
     "name": "stdout",
     "output_type": "stream",
     "text": [
      "File 'example.txt' exists.\n",
      "Size: 28 bytes\n"
     ]
    }
   ],
   "source": [
    "filename = \"example.txt\"\n",
    "\n",
    "try:\n",
    "    with open(filename, 'rb') as file:\n",
    "        file.seek(0, 2)  # Move pointer to the end of the file 0 → means move 0 bytes.2 → means from the end of the file.\n",
    "        size = file.tell()  # Get the position → file size in bytes\n",
    "        print(f\"File '{filename}' exists.\")\n",
    "        print(f\"Size: {size} bytes\")\n",
    "except FileNotFoundError:\n",
    "    print(f\"File '{filename}' does not exist.\")\n"
   ]
  },
  {
   "cell_type": "code",
   "execution_count": null,
   "id": "de1a4470",
   "metadata": {},
   "outputs": [],
   "source": []
  }
 ],
 "metadata": {
  "kernelspec": {
   "display_name": "Python 3 (ipykernel)",
   "language": "python",
   "name": "python3"
  },
  "language_info": {
   "codemirror_mode": {
    "name": "ipython",
    "version": 3
   },
   "file_extension": ".py",
   "mimetype": "text/x-python",
   "name": "python",
   "nbconvert_exporter": "python",
   "pygments_lexer": "ipython3",
   "version": "3.11.4"
  }
 },
 "nbformat": 4,
 "nbformat_minor": 5
}
