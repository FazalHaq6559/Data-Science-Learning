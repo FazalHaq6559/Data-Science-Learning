{
 "cells": [
  {
   "cell_type": "markdown",
   "id": "3fca6dba",
   "metadata": {},
   "source": [
    "## Python Practice Questions\n",
    "## *📅 Date:* 26-07-2025 | Saturday\n",
    "\n",
    "## 📘 Day 11\n",
    "\n",
    "## Topic: Line Count, Word Count, Search & Replace in Python"
   ]
  },
  {
   "cell_type": "markdown",
   "id": "96597285",
   "metadata": {},
   "source": [
    "### 1. Write a Python program to count the number of lines in a text file.\n"
   ]
  },
  {
   "cell_type": "code",
   "execution_count": 9,
   "id": "a0e4a3f4",
   "metadata": {},
   "outputs": [
    {
     "data": {
      "text/plain": [
       "6"
      ]
     },
     "execution_count": 9,
     "metadata": {},
     "output_type": "execute_result"
    }
   ],
   "source": [
    "def count_lines(filepath):\n",
    "    with open(filepath, 'r') as file:\n",
    "        lines = file.readlines()\n",
    "    return len(lines)\n",
    "\n",
    "count_lines(\"example.txt\")\n",
    "# Explanation: readlines() loads all lines from the file into a list.\n",
    "# Each item is a line, so we return the length of that list.\n",
    "\n"
   ]
  },
  {
   "cell_type": "markdown",
   "id": "22546d77",
   "metadata": {},
   "source": [
    "### 2. Write a program to count the total number of words in a given text file.\n"
   ]
  },
  {
   "cell_type": "code",
   "execution_count": 18,
   "id": "e90441c9",
   "metadata": {},
   "outputs": [
    {
     "data": {
      "text/plain": [
       "12"
      ]
     },
     "execution_count": 18,
     "metadata": {},
     "output_type": "execute_result"
    }
   ],
   "source": [
    "def count_words(filename):\n",
    "    with open(filename, 'r') as file:\n",
    "        return sum(len(line.split()) for line in file)\n",
    "\n",
    "count_words(\"example.txt\")\n",
    "# Explanation: Each line is split into words using split() and counted using len(). \n",
    "# The sum() adds all word counts.\n"
   ]
  },
  {
   "cell_type": "markdown",
   "id": "e371b618",
   "metadata": {},
   "source": [
    "### 3. Write a program that counts the number of characters (including spaces) in a file.\n"
   ]
  },
  {
   "cell_type": "code",
   "execution_count": 19,
   "id": "fa18bb53",
   "metadata": {},
   "outputs": [
    {
     "data": {
      "text/plain": [
       "44"
      ]
     },
     "execution_count": 19,
     "metadata": {},
     "output_type": "execute_result"
    }
   ],
   "source": [
    "def count_characters(filename):\n",
    "    with open(filename, 'r') as file:\n",
    "        return len(file.read()) # read() returns whole content as string \n",
    "\n",
    "count_characters(\"example.txt\")\n"
   ]
  },
  {
   "cell_type": "markdown",
   "id": "b14a8baf",
   "metadata": {},
   "source": [
    "### 4. Write a Python script to search for a specific word in a text file and display the lines where it appears.\n"
   ]
  },
  {
   "cell_type": "code",
   "execution_count": 21,
   "id": "1d4d1147",
   "metadata": {},
   "outputs": [
    {
     "name": "stdout",
     "output_type": "stream",
     "text": [
      "Line 7: Fazal haq\n"
     ]
    }
   ],
   "source": [
    "def search_word(filename, word):\n",
    "    with open(filename, 'r') as file:\n",
    "        for i, line in enumerate(file, 1):  # Line number starts from 1\n",
    "            if word in line:\n",
    "                print(f\"Line {i}: {line.strip()}\")\n",
    "search_word(\"example.txt\",'Fazal')"
   ]
  },
  {
   "cell_type": "markdown",
   "id": "88e88298",
   "metadata": {},
   "source": [
    "### 5. Create a program that replaces a given word in a file with another word and saves the result.\n"
   ]
  },
  {
   "cell_type": "code",
   "execution_count": 24,
   "id": "421a9243",
   "metadata": {},
   "outputs": [
    {
     "name": "stdout",
     "output_type": "stream",
     "text": [
      "line 1\n",
      "line 2 \n",
      "line 3\n",
      "line 4 \n",
      "line 5 \n",
      "line 6\n",
      "Faizi haq\n"
     ]
    }
   ],
   "source": [
    "def replace_word(filename, old, new, output):\n",
    "    with open(filename, 'r') as file:\n",
    "        content = file.read().replace(old, new)\n",
    "    with open(output, 'w') as out_file:\n",
    "        out_file.write(content)\n",
    "replace_word(\"example.txt\", \"Fazal\", \"Faizi\", \"example2.txt\")\n",
    "\n",
    "with open(\"example2.txt\", 'r') as file:\n",
    "    content = file.read()\n",
    "    print(content)"
   ]
  },
  {
   "cell_type": "markdown",
   "id": "3d92cd5f",
   "metadata": {},
   "source": [
    "### 6. Write a program to read a file and print the frequency of each word (word count).\n"
   ]
  },
  {
   "cell_type": "code",
   "execution_count": 27,
   "id": "8d579c50",
   "metadata": {},
   "outputs": [
    {
     "name": "stdout",
     "output_type": "stream",
     "text": [
      "line: 6\n",
      "1: 1\n",
      "2: 1\n",
      "3: 1\n",
      "4: 1\n",
      "5: 1\n",
      "6: 1\n",
      "faizi: 1\n",
      "haq: 1\n"
     ]
    }
   ],
   "source": [
    "from collections import Counter\n",
    "\n",
    "def word_frequency(filename):\n",
    "    with open(filename, 'r') as file:\n",
    "        words = file.read().lower().split()\n",
    "        freq = Counter(words)\n",
    "        for word, count in freq.items():\n",
    "            print(f\"{word}: {count}\")\n",
    "word_frequency(\"example2.txt\")"
   ]
  },
  {
   "cell_type": "markdown",
   "id": "b3a602b4",
   "metadata": {},
   "source": [
    "### 7. Write a script to read a file and count how many times a specific word appears.\n"
   ]
  },
  {
   "cell_type": "code",
   "execution_count": 28,
   "id": "f9c791ab",
   "metadata": {},
   "outputs": [
    {
     "data": {
      "text/plain": [
       "6"
      ]
     },
     "execution_count": 28,
     "metadata": {},
     "output_type": "execute_result"
    }
   ],
   "source": [
    "def count_specific_word(filename, word):\n",
    "    with open(filename, 'r') as file:\n",
    "        return file.read().split().count(word)\n",
    "count_specific_word(\"example2.txt\", \"line\")"
   ]
  },
  {
   "cell_type": "markdown",
   "id": "858867d9",
   "metadata": {},
   "source": [
    "### 8. Write a program that removes all punctuation from a text file and saves the cleaned version.\n"
   ]
  },
  {
   "cell_type": "code",
   "execution_count": 46,
   "id": "ba5505b6",
   "metadata": {},
   "outputs": [
    {
     "name": "stdout",
     "output_type": "stream",
     "text": [
      "line 1,\n",
      "line 2!\n",
      "line's 3\n",
      "line 4 \n",
      "line 5:\n",
      "line 6;\n",
      "Fazal: haq- \n",
      "---Cleaned----\n",
      " line 1\n",
      "line 2\n",
      "lines 3\n",
      "line 4 \n",
      "line 5\n",
      "line 6\n",
      "Fazal haq \n"
     ]
    }
   ],
   "source": [
    "import string\n",
    "\n",
    "with open(\"example.txt\") as file:\n",
    "    print(file.read())\n",
    "\n",
    "def remove_punctuation(input_file, output_file):\n",
    "    with open(input_file, 'r') as file:\n",
    "        text = file.read() \n",
    "\n",
    "    # Create a translation table that removes all punctuation\n",
    "    translator = str.maketrans('', '', string.punctuation)\n",
    "\n",
    "    # Translate the text using the table (removes punctuation)\n",
    "    cleaned_text = text.translate(translator)\n",
    "\n",
    "    \n",
    "    with open(output_file, 'w') as out_file:\n",
    "        out_file.write(cleaned_text)\n",
    "\n",
    "remove_punctuation(\"example.txt\", \"cleaned.txt\")\n",
    "\n",
    "\n",
    "with open(\"cleaned.txt\") as file:\n",
    "    print(\"---Cleaned----\\n\", file.read())\n"
   ]
  },
  {
   "cell_type": "markdown",
   "id": "496d403e",
   "metadata": {},
   "source": [
    "### 9. Write a Python program to reverse the content of each line in a file.\n"
   ]
  },
  {
   "cell_type": "code",
   "execution_count": 29,
   "id": "94cc3ec0",
   "metadata": {},
   "outputs": [
    {
     "name": "stdout",
     "output_type": "stream",
     "text": [
      "1 enil\n",
      "2 enil\n",
      "3 enil\n",
      "4 enil\n",
      "5 enil\n",
      "6 enil\n",
      "qah iziaF\n"
     ]
    }
   ],
   "source": [
    "def reverse_lines(filename):\n",
    "    with open(filename, 'r') as file:\n",
    "        for line in file:\n",
    "            print(line[::-1].strip())\n",
    "reverse_lines(\"example2.txt\")"
   ]
  },
  {
   "cell_type": "markdown",
   "id": "c83f2095",
   "metadata": {},
   "source": [
    "### 10. Write a program to copy the contents of one file to another.\n"
   ]
  },
  {
   "cell_type": "code",
   "execution_count": 32,
   "id": "55f06913",
   "metadata": {},
   "outputs": [
    {
     "name": "stdout",
     "output_type": "stream",
     "text": [
      "line 1\n",
      "line 2 \n",
      "line 3\n",
      "line 4 \n",
      "line 5 \n",
      "line 6\n",
      "Fazal haq\n"
     ]
    }
   ],
   "source": [
    "def copy_file(src, dest):\n",
    "    with open(src, 'r') as source, open(dest, 'w') as destination:\n",
    "        destination.write(source.read())\n",
    "copy_file(\"example.txt\",\"example2.txt\")\n",
    "\n",
    "with open(\"example2.txt\") as file:\n",
    "    content = file.read()\n",
    "    print(content)"
   ]
  },
  {
   "cell_type": "markdown",
   "id": "2322d3ef",
   "metadata": {},
   "source": [
    "### 11. Write a script that appends a new line to an existing file."
   ]
  },
  {
   "cell_type": "code",
   "execution_count": 35,
   "id": "148dc1d5",
   "metadata": {},
   "outputs": [
    {
     "name": "stdout",
     "output_type": "stream",
     "text": [
      "line 1\n",
      "line 2 \n",
      "line 3\n",
      "line 4 \n",
      "line 5 \n",
      "line 6\n",
      "Fazal haq\n",
      "Student of bahria University\n",
      "Student of bahria University\n",
      "Student of bahria University\n"
     ]
    }
   ],
   "source": [
    "def append_line(filename, line):\n",
    "    with open(filename, 'a') as file:\n",
    "        file.write(f'\\n{line}')\n",
    "line = \"Student of bahria University\"\n",
    "append_line(\"example2.txt\", line)\n",
    "\n",
    "with open(\"example2.txt\") as file:\n",
    "    content = file.read()\n",
    "    print(content)"
   ]
  },
  {
   "cell_type": "markdown",
   "id": "ace613d1",
   "metadata": {},
   "source": [
    "### 12. Write a program to find and replace multiple words in a text file using a dictionary."
   ]
  },
  {
   "cell_type": "code",
   "execution_count": 51,
   "id": "c0bde04c",
   "metadata": {},
   "outputs": [
    {
     "name": "stdout",
     "output_type": "stream",
     "text": [
      "line 1,\n",
      "line 2!\n",
      "line's 3\n",
      "line 4 \n",
      "line 5:\n",
      "line 6;\n",
      "Fazal: haq- \n",
      "\n",
      "row 1,\n",
      "row 2!\n",
      "row's 3\n",
      "row 4 \n",
      "row 5:\n",
      "row 6;\n",
      "Faizi: haq- \n"
     ]
    }
   ],
   "source": [
    "def replace_multiple_words(filename, output, replacements):\n",
    "    with open(filename, 'r') as file:\n",
    "        text = file.read()\n",
    "    for old, new in replacements.items():\n",
    "        text = text.replace(old, new)\n",
    "    with open(output, 'w') as out_file:\n",
    "        out_file.write(text)\n",
    "\n",
    "replacements  = {\"line\": \"row\", \"Fazal\": \"Faizi\"}\n",
    "replace_multiple_words(\"example.txt\", \"replaced.txt\", replacements )\n",
    "\n",
    "with open(\"example.txt\") as src, open(\"replaced.txt\") as dst:\n",
    "    print(src.read())\n",
    "    print()\n",
    "    print(dst.read())\n"
   ]
  },
  {
   "cell_type": "markdown",
   "id": "0fddeccc",
   "metadata": {},
   "source": [
    "### 13. Write a program that reads a file and prints only the unique words used in it."
   ]
  },
  {
   "cell_type": "code",
   "execution_count": 36,
   "id": "d1657206",
   "metadata": {},
   "outputs": [
    {
     "name": "stdout",
     "output_type": "stream",
     "text": [
      "{'4', '3', 'student', 'haq', 'university', '5', 'of', 'bahria', 'line', 'fazal', '6', '2', '1'}\n"
     ]
    }
   ],
   "source": [
    "def unique_words(filename):\n",
    "    with open(filename, 'r') as file:\n",
    "        words = set(file.read().lower().split())\n",
    "        print(words)\n",
    "unique_words(\"example2.txt\")"
   ]
  },
  {
   "cell_type": "markdown",
   "id": "4646d091",
   "metadata": {},
   "source": [
    "### 14. Write a Python script to read a text file and print its content in uppercase."
   ]
  },
  {
   "cell_type": "code",
   "execution_count": 37,
   "id": "9a7f21f3",
   "metadata": {},
   "outputs": [
    {
     "name": "stdout",
     "output_type": "stream",
     "text": [
      "LINE 1\n",
      "LINE 2 \n",
      "LINE 3\n",
      "LINE 4 \n",
      "LINE 5 \n",
      "LINE 6\n",
      "FAZAL HAQ\n",
      "STUDENT OF BAHRIA UNIVERSITY\n",
      "STUDENT OF BAHRIA UNIVERSITY\n",
      "STUDENT OF BAHRIA UNIVERSITY\n"
     ]
    }
   ],
   "source": [
    "def print_uppercase(filename):\n",
    "    with open(filename, 'r') as file:\n",
    "        print(file.read().upper())\n",
    "print_uppercase(\"example2.txt\")"
   ]
  },
  {
   "cell_type": "markdown",
   "id": "5bf06e5f",
   "metadata": {},
   "source": [
    "### 15. Write a program to read a file and remove all duplicate lines."
   ]
  },
  {
   "cell_type": "code",
   "execution_count": 42,
   "id": "dd16847d",
   "metadata": {},
   "outputs": [
    {
     "name": "stdout",
     "output_type": "stream",
     "text": [
      "line 1\n",
      "line 2 \n",
      "line 3\n",
      "line 4 \n",
      "line 5 \n",
      "line 6\n",
      "Fazal haq\n",
      "Student of bahria University\n",
      "Student of bahria University\n"
     ]
    }
   ],
   "source": [
    "def remove_duplicate_lines(filename, output):\n",
    "    seen = set()\n",
    "    with open(filename, 'r') as file, open(output, 'w') as out_file:\n",
    "        for line in file:\n",
    "            if line not in seen:\n",
    "                out_file.write(line)\n",
    "                seen.add(line)\n",
    "                \n",
    "remove_duplicate_lines(\"example3.txt\", \"example4.txt\")\n",
    "\n",
    "with open(\"example4.txt\") as file:\n",
    "    content = file.read()\n",
    "    print(content)"
   ]
  }
 ],
 "metadata": {
  "kernelspec": {
   "display_name": "Python 3 (ipykernel)",
   "language": "python",
   "name": "python3"
  },
  "language_info": {
   "codemirror_mode": {
    "name": "ipython",
    "version": 3
   },
   "file_extension": ".py",
   "mimetype": "text/x-python",
   "name": "python",
   "nbconvert_exporter": "python",
   "pygments_lexer": "ipython3",
   "version": "3.11.4"
  }
 },
 "nbformat": 4,
 "nbformat_minor": 5
}
