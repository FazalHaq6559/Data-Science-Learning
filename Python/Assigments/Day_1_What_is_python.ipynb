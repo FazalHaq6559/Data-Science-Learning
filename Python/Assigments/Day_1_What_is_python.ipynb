{
 "cells": [
  {
   "cell_type": "markdown",
   "id": "a4fa290a",
   "metadata": {},
   "source": [
    "# Python Programming \n",
    "📅 **Date:** 15-07-2025  \n",
    "📍 **Day:** 01 \n",
    "\n",
    "📘 **Topic:** Intro to python  (What is python, print, comment, escape)\n",
    "---\n"
   ]
  },
  {
   "cell_type": "markdown",
   "id": "1af4d741",
   "metadata": {},
   "source": [
    "<b>1. What is Python and what are its key features?</b> \n",
    "\n",
    "Python is high level, interpreted programming language. Popular for its easy syntex.\n",
    "\n",
    "Key Features icllude:\n",
    "- Easy to understand\n",
    "- Vide range of standard libraries\n",
    "- Support for oject-oriented programming\n",
    "- Compatible with cross-platform\n",
    "\n",
    "\n"
   ]
  },
  {
   "cell_type": "markdown",
   "id": "348a7e66",
   "metadata": {},
   "source": [
    "<b>2. Write a Python program to print your full name on the screen."
   ]
  },
  {
   "cell_type": "code",
   "execution_count": 3,
   "id": "76a321ba",
   "metadata": {},
   "outputs": [
    {
     "name": "stdout",
     "output_type": "stream",
     "text": [
      "Fazal Haq\n"
     ]
    }
   ],
   "source": [
    "print('Fazal Haq')"
   ]
  },
  {
   "cell_type": "markdown",
   "id": "8547fd7c",
   "metadata": {},
   "source": [
    "<b>3. What is the syntax of the print() function in Python?</b>\n",
    "\n",
    "The print() function display content within close parenthes on console. It is used to track errors and outputs"
   ]
  },
  {
   "cell_type": "markdown",
   "id": "d24f2423",
   "metadata": {},
   "source": [
    "<b>4. How do you print multiple values in a single print() call?</b>\n",
    "\n",
    "To print multiple values in single print(), each value is separated by comma.\n",
    "For Example: If i want to print my name with my age \n",
    "print('Fazal Haq' , 25 )\n"
   ]
  },
  {
   "cell_type": "markdown",
   "id": "7d6e4d92",
   "metadata": {},
   "source": [
    "<b>5. What is a comment in Python and how is it used? </b>\n",
    "\n",
    "Comment is text ignored by python interpreter used for explanation of code. To use comment we use # before the text or code"
   ]
  },
  {
   "cell_type": "markdown",
   "id": "e58c4bb6",
   "metadata": {},
   "source": [
    "<b>6. What’s the difference between single-line and multi-line comments in Python?</b>\n",
    "\n",
    "-Single line comment starts with #\n",
    "\n",
    "-Multi line use triple quotes ''' or \"\"\" "
   ]
  },
  {
   "cell_type": "markdown",
   "id": "83288a7e",
   "metadata": {},
   "source": [
    "<b>7. Add a comment in Python explaining the purpose of a program.</b>"
   ]
  },
  {
   "cell_type": "code",
   "execution_count": 10,
   "id": "3656686d",
   "metadata": {},
   "outputs": [
    {
     "name": "stdout",
     "output_type": "stream",
     "text": [
      "Welcom to the DSGuru!\n"
     ]
    }
   ],
   "source": [
    "# This program print welcome message \n",
    "\n",
    "print('Welcom to the DSGuru!')\n"
   ]
  },
  {
   "cell_type": "markdown",
   "id": "bb7f78f9",
   "metadata": {},
   "source": [
    "<b>8. What are escape characters in Python? Give examples. </b>\n",
    "\n",
    "In python escape character is blacklash \"\\\". Used to insert special character into string that could other wise impossible to include directly. \n",
    "\n",
    "Common used escape characters:\n",
    "\n",
    "\\n: New line \n",
    "\n",
    "\\t: Tab(4 horizontal spaces) <b>Name:</b>\\tFazal - <b>Name:</b>    Fazal\n",
    "\n",
    "\\\": Double quote\n"
   ]
  },
  {
   "cell_type": "markdown",
   "id": "b167252e",
   "metadata": {},
   "source": [
    "<b>9. Print the sentence: He said, \"Python is great!\" using escape characters.</b> "
   ]
  },
  {
   "cell_type": "code",
   "execution_count": 17,
   "id": "d9e7a2ea",
   "metadata": {},
   "outputs": [
    {
     "name": "stdout",
     "output_type": "stream",
     "text": [
      "He said, \"Python is greate\"!\n"
     ]
    }
   ],
   "source": [
    "print('He said, \\\"Python is greate\\\"!')"
   ]
  },
  {
   "cell_type": "markdown",
   "id": "43c1adc9",
   "metadata": {},
   "source": [
    "<b>10. Print the following using escape characters:<\\b>\n",
    "\n",
    "    Hello \n",
    "\n",
    "    World!"
   ]
  },
  {
   "cell_type": "code",
   "execution_count": 18,
   "id": "440db711",
   "metadata": {},
   "outputs": [
    {
     "name": "stdout",
     "output_type": "stream",
     "text": [
      "Hello \n",
      "world!\n"
     ]
    }
   ],
   "source": [
    "print('Hello \\nworld!')"
   ]
  },
  {
   "cell_type": "markdown",
   "id": "e0ff9f95",
   "metadata": {},
   "source": [
    "<b>11. Print a tabbed table using \\t like:\n",
    "\n",
    "    Name    Age    City \n",
    "\n",
    "    Ali     25     Lahore "
   ]
  },
  {
   "cell_type": "code",
   "execution_count": 20,
   "id": "793c1ffc",
   "metadata": {},
   "outputs": [
    {
     "name": "stdout",
     "output_type": "stream",
     "text": [
      "Name\tAge\tCity\n",
      "Ali\t25\tLahore\n"
     ]
    }
   ],
   "source": [
    "print('Name\\tAge\\tCity\\nAli\\t25\\tLahore')"
   ]
  },
  {
   "cell_type": "markdown",
   "id": "d80504a7",
   "metadata": {},
   "source": [
    "<b>12. What does \\n do in a print() statement? \n",
    "\n",
    "\\n is new line escape character. When used in a string, it tells the python to move curser to the next line when prinring output."
   ]
  },
  {
   "cell_type": "markdown",
   "id": "912d18cd",
   "metadata": {},
   "source": [
    "<b>13. How do you include a backslash \\ in your output using print()? \n",
    "\n",
    "I include backslash within quotations \"\" : print(\"A\\tB\\tC\")\n",
    "    \n",
    "  "
   ]
  },
  {
   "cell_type": "markdown",
   "id": "55d43e83",
   "metadata": {},
   "source": [
    "<b>14. What happens if you forget to close a string with a quote?"
   ]
  },
  {
   "cell_type": "markdown",
   "id": "dff21b58",
   "metadata": {},
   "source": [
    "It will give error when run.\n",
    "python will consider it as undefined variable name \n"
   ]
  },
  {
   "cell_type": "markdown",
   "id": "290304bb",
   "metadata": {},
   "source": [
    "<b>15. Write a single-line Python program that prints: This is Python! on the first line and Let's code. on the second line using \\n."
   ]
  },
  {
   "cell_type": "code",
   "execution_count": 30,
   "id": "7c4d4a9a",
   "metadata": {},
   "outputs": [
    {
     "name": "stdout",
     "output_type": "stream",
     "text": [
      "This is python!\n",
      "Let's code\n"
     ]
    }
   ],
   "source": [
    "print('This is python!\\nLet\\'s code')"
   ]
  }
 ],
 "metadata": {
  "kernelspec": {
   "display_name": "Python 3 (ipykernel)",
   "language": "python",
   "name": "python3"
  },
  "language_info": {
   "codemirror_mode": {
    "name": "ipython",
    "version": 3
   },
   "file_extension": ".py",
   "mimetype": "text/x-python",
   "name": "python",
   "nbconvert_exporter": "python",
   "pygments_lexer": "ipython3",
   "version": "3.11.4"
  }
 },
 "nbformat": 4,
 "nbformat_minor": 5
}
