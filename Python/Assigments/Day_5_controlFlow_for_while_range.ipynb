{
 "cells": [
  {
   "cell_type": "markdown",
   "id": "ce1b7b81",
   "metadata": {},
   "source": [
    "# 🐍 Python Practice Questions  \n",
    "📅 **Date:** 19-07-2025  \n",
    "📍 **Day:** 5  \n",
    "📘 **Topic:** Control Flow Part 2 – Loops  \n",
    "🔍 **Subtopics:** `for`, `while`, `range`, loop patterns  \n",
    "---\n",
    "\n",
    "## ✅ Section 1: Basic `for`, `while`, and `range()` Questions\n",
    "\n",
    "\n"
   ]
  },
  {
   "cell_type": "markdown",
   "id": "197941d6",
   "metadata": {},
   "source": [
    "### 1.1. Write a program using a `for` loop and `range()` to print numbers from 1 to 10."
   ]
  },
  {
   "cell_type": "code",
   "execution_count": 1,
   "id": "6f66b4e0",
   "metadata": {},
   "outputs": [
    {
     "name": "stdout",
     "output_type": "stream",
     "text": [
      "1\n",
      "2\n",
      "3\n",
      "4\n",
      "5\n",
      "6\n",
      "7\n",
      "8\n",
      "9\n",
      "10\n"
     ]
    }
   ],
   "source": [
    "for num in range(1,11):# by default, range is exclusive(not include the last number)\n",
    "    print(num)"
   ]
  },
  {
   "cell_type": "markdown",
   "id": "7aa033c2",
   "metadata": {},
   "source": [
    "### 2.2. Write a program using a `while` loop to print the first 10 natural numbers."
   ]
  },
  {
   "cell_type": "code",
   "execution_count": 2,
   "id": "e3bc9891",
   "metadata": {},
   "outputs": [
    {
     "name": "stdout",
     "output_type": "stream",
     "text": [
      "1\n",
      "2\n",
      "3\n",
      "4\n",
      "5\n",
      "6\n",
      "7\n",
      "8\n",
      "9\n",
      "10\n"
     ]
    }
   ],
   "source": [
    "N = 1 \n",
    "while N <= 10:\n",
    "    print(N)\n",
    "    N += 1"
   ]
  },
  {
   "cell_type": "markdown",
   "id": "bd42cdb4",
   "metadata": {},
   "source": [
    "### 3.3. Print all even numbers between 1 and 50 using a `for` loop and `range()`."
   ]
  },
  {
   "cell_type": "code",
   "execution_count": 4,
   "id": "0dfd4382",
   "metadata": {},
   "outputs": [
    {
     "name": "stdout",
     "output_type": "stream",
     "text": [
      "2\n",
      "4\n",
      "6\n",
      "8\n",
      "10\n",
      "12\n",
      "14\n",
      "16\n",
      "18\n",
      "20\n",
      "22\n",
      "24\n",
      "26\n",
      "28\n",
      "30\n",
      "32\n",
      "34\n",
      "36\n",
      "38\n",
      "40\n",
      "42\n",
      "44\n",
      "46\n",
      "48\n",
      "50\n"
     ]
    }
   ],
   "source": [
    "for number in range(1,51):\n",
    "    if number % 2 == 0:\n",
    "        print(number)"
   ]
  },
  {
   "cell_type": "markdown",
   "id": "f32ce421",
   "metadata": {},
   "source": [
    "### 4.4. Print the sum of numbers from 1 to 100 using a `for` loop."
   ]
  },
  {
   "cell_type": "code",
   "execution_count": 45,
   "id": "77fb6269",
   "metadata": {},
   "outputs": [
    {
     "name": "stdout",
     "output_type": "stream",
     "text": [
      "5050\n"
     ]
    }
   ],
   "source": [
    "sum = 0\n",
    "for number in range(1,101):\n",
    "    sum += number\n",
    "print(sum)"
   ]
  },
  {
   "cell_type": "markdown",
   "id": "4326b79f",
   "metadata": {},
   "source": [
    "### 5. Use a `while` loop to calculate the factorial of a number entered by the user."
   ]
  },
  {
   "cell_type": "code",
   "execution_count": 13,
   "id": "3cf265bb",
   "metadata": {},
   "outputs": [
    {
     "name": "stdout",
     "output_type": "stream",
     "text": [
      "Enter a number to find its factorial : 3\n",
      "6\n"
     ]
    }
   ],
   "source": [
    "number = int(input(\"Enter a number to find its factorial : \"))\n",
    "fact = 1\n",
    "i = 1\n",
    "while i <=number:\n",
    "        fact *= i\n",
    "        i += 1\n",
    "\n",
    "print(fact)"
   ]
  },
  {
   "cell_type": "markdown",
   "id": "43cb3c86",
   "metadata": {},
   "source": [
    "## ✅ Loop Patterns with `for` and `while`"
   ]
  },
  {
   "cell_type": "markdown",
   "id": "8ab03625",
   "metadata": {},
   "source": [
    "### 6. Print the following pattern using a `for` loop:\n",
    "  \n",
    "  "
   ]
  },
  {
   "cell_type": "code",
   "execution_count": 17,
   "id": "0721d46b",
   "metadata": {},
   "outputs": [
    {
     "name": "stdout",
     "output_type": "stream",
     "text": [
      "*\n",
      "**\n",
      "***\n",
      "****\n",
      "*****\n"
     ]
    }
   ],
   "source": [
    "\n",
    "#   *\n",
    "#   **\n",
    "#   ***\n",
    "#   ****\n",
    "#   *****\n",
    "\n",
    "for line in range(1, 6):\n",
    "    print('*' * line)  #The * operator repeats the string '*' line number of times     "
   ]
  },
  {
   "cell_type": "markdown",
   "id": "95d5907c",
   "metadata": {},
   "source": [
    "### 7. Print this pattern using nested `for` loops:\n",
    "   1\n",
    "   \n",
    "   12\n",
    "   \n",
    "   123\n",
    "   \n",
    "   1234\n",
    "   \n",
    "   12345"
   ]
  },
  {
   "cell_type": "code",
   "execution_count": 22,
   "id": "0f98302b",
   "metadata": {},
   "outputs": [
    {
     "name": "stdout",
     "output_type": "stream",
     "text": [
      "\n",
      "1 \n",
      "1 2 \n",
      "1 2 3 \n",
      "1 2 3 4 \n"
     ]
    }
   ],
   "source": [
    "for line in range(1,6): \n",
    "    for num in range(1,line + 1):\n",
    "        print(num, end=' ')\n",
    "    print()"
   ]
  },
  {
   "cell_type": "markdown",
   "id": "4477243f",
   "metadata": {},
   "source": [
    "### 8. Create a loop pattern of stars in reverse:\n",
    "   "
   ]
  },
  {
   "cell_type": "code",
   "execution_count": 27,
   "id": "ff3a0a63",
   "metadata": {},
   "outputs": [
    {
     "name": "stdout",
     "output_type": "stream",
     "text": [
      "*****\n",
      "****\n",
      "***\n",
      "**\n",
      "*\n"
     ]
    }
   ],
   "source": [
    "# *****\n",
    "# ****\n",
    "# ***\n",
    "# **\n",
    "# *\n",
    "\n",
    "for star in range(5,0,-1):\n",
    "    print(\"*\" * star)"
   ]
  },
  {
   "cell_type": "markdown",
   "id": "e39ea0e0",
   "metadata": {},
   "source": [
    "### 9. Write a `for` loop to print the multiplication table of any number entered by the user."
   ]
  },
  {
   "cell_type": "code",
   "execution_count": 28,
   "id": "ae3ef389",
   "metadata": {},
   "outputs": [
    {
     "name": "stdout",
     "output_type": "stream",
     "text": [
      "Enter a number: 10\n",
      "10 x 1 = 10\n",
      "10 x 2 = 20\n",
      "10 x 3 = 30\n",
      "10 x 4 = 40\n",
      "10 x 5 = 50\n",
      "10 x 6 = 60\n",
      "10 x 7 = 70\n",
      "10 x 8 = 80\n",
      "10 x 9 = 90\n",
      "10 x 10 = 100\n"
     ]
    }
   ],
   "source": [
    "num = int(input(\"Enter a number: \"))\n",
    "for i in range(1, 11):\n",
    "    print(f\"{num} x {i} = {num * i}\")"
   ]
  },
  {
   "cell_type": "markdown",
   "id": "f2d5a6b0",
   "metadata": {},
   "source": [
    "### 10. Use a `while` loop to print the digits of a number in reverse order (e.g., 1234 → 4 3 2 1)."
   ]
  },
  {
   "cell_type": "code",
   "execution_count": 34,
   "id": "51d43ac6",
   "metadata": {},
   "outputs": [
    {
     "name": "stdout",
     "output_type": "stream",
     "text": [
      "Enter a number: 1234\n",
      "Digits in reverse order:\n",
      "4 3 2 1 "
     ]
    }
   ],
   "source": [
    "num = int(input(\"Enter a number: \"))\n",
    "print(\"Digits in reverse order:\")\n",
    "while num > 0:\n",
    "    digit = num % 10 \n",
    "    print(digit, end=' ')\n",
    "    num //= 10"
   ]
  },
  {
   "cell_type": "markdown",
   "id": "fc7f0a4e",
   "metadata": {},
   "source": [
    "## ✅ Intermediate Logic with Loops"
   ]
  },
  {
   "cell_type": "markdown",
   "id": "fe1351b4",
   "metadata": {},
   "source": [
    "### 11. Print all prime numbers between 1 and 100 using a loop"
   ]
  },
  {
   "cell_type": "code",
   "execution_count": 39,
   "id": "b2fcb43a",
   "metadata": {},
   "outputs": [
    {
     "name": "stdout",
     "output_type": "stream",
     "text": [
      "2 3 5 7 11 13 17 19 23 29 31 37 41 43 47 53 59 61 67 71 73 79 83 89 97 "
     ]
    }
   ],
   "source": [
    "for num in range(2, 101):\n",
    "    \n",
    "    is_prime = True\n",
    "\n",
    "    # Check if num is divisible by any number from 2 up to the square root of num\n",
    "    for i in range(2, int(num**0.5) + 1):\n",
    "        if num % i == 0:\n",
    "            # If divisible, it's not a prime number\n",
    "            is_prime = False\n",
    "            break  \n",
    "\n",
    "    # If no factors were found, it's a prime number\n",
    "    if is_prime:\n",
    "        print(num, end=' ')"
   ]
  },
  {
   "cell_type": "markdown",
   "id": "2bae90e1",
   "metadata": {},
   "source": [
    "### 12. Ask the user for a number and use a loop to check if it is a palindrome number."
   ]
  },
  {
   "cell_type": "code",
   "execution_count": 43,
   "id": "98740c40",
   "metadata": {},
   "outputs": [
    {
     "name": "stdout",
     "output_type": "stream",
     "text": [
      "Enter a number: 121\n",
      "Yes, it's a palindrome number.\n"
     ]
    }
   ],
   "source": [
    "#A palindrome number reads the same forwards and backwards (e.g. 121, 1331).\n",
    "\n",
    "# Ask the user for a number\n",
    "num = input(\"Enter a number: \")\n",
    "\n",
    "# Reverse the number using a loop\n",
    "reversed_num = \"\"\n",
    "\n",
    "for digit in num:\n",
    "    reversed_num = digit + reversed_num  # add each digit to the front\n",
    "\n",
    "# Check if the number is a palindrome\n",
    "if num == reversed_num:\n",
    "    print(\"Yes, it's a palindrome number.\")\n",
    "else:\n",
    "    print(\"No, it's not a palindrome number.\")\n",
    "\n"
   ]
  },
  {
   "cell_type": "markdown",
   "id": "730879ae",
   "metadata": {},
   "source": [
    "### 13. Print the Fibonacci sequence up to 10 terms using a loop."
   ]
  },
  {
   "cell_type": "code",
   "execution_count": 42,
   "id": "301e10ca",
   "metadata": {},
   "outputs": [
    {
     "name": "stdout",
     "output_type": "stream",
     "text": [
      "Fibonacci sequence up to 10 terms:\n",
      "0 1 1 2 3 5 8 13 21 34 "
     ]
    }
   ],
   "source": [
    "# Number of terms\n",
    "n_terms = 10\n",
    "\n",
    "# First two terms of Fibonacci sequence\n",
    "a, b = 0, 1\n",
    "\n",
    "print(\"Fibonacci sequence up to 10 terms:\")\n",
    "\n",
    "# Loop through 10 times\n",
    "for fab in range(n_terms):\n",
    "    print(a, end=' ')\n",
    "    a, b = b, a + b  # Update values\n"
   ]
  },
  {
   "cell_type": "markdown",
   "id": "22316969",
   "metadata": {},
   "source": [
    "### 14. Count how many digits are in an integer entered by the user using a `while` loop."
   ]
  },
  {
   "cell_type": "code",
   "execution_count": 41,
   "id": "27aa66d0",
   "metadata": {},
   "outputs": [
    {
     "name": "stdout",
     "output_type": "stream",
     "text": [
      "Enter an integer: 675879\n",
      "The number 675879 has 6 digits.\n"
     ]
    }
   ],
   "source": [
    "# Ask the user to enter an integer\n",
    "num = int(input(\"Enter an integer: \"))\n",
    "\n",
    "# Make a copy to avoid modifying the original for display\n",
    "original_num = num\n",
    "\n",
    "# Handle negative numbers by converting to positive\n",
    "if num < 0:\n",
    "    num = -num\n",
    "\n",
    "# Special case for 0\n",
    "if num == 0:\n",
    "    count = 1\n",
    "else:\n",
    "    count = 0\n",
    "    while num > 0:\n",
    "        num = num // 10  # Remove the last digit\n",
    "        count += 1       # Increment digit count\n",
    "\n",
    "# Print the result\n",
    "print(f\"The number {original_num} has {count} digits.\")"
   ]
  },
  {
   "cell_type": "markdown",
   "id": "1e5d81a4",
   "metadata": {},
   "source": [
    "### 15. Print a pattern of numbers in triangle form:\n",
    "   1\n",
    "   \n",
    "   2 3\n",
    "   \n",
    "   4 5 6\n",
    "   \n",
    "   7 8 9 10"
   ]
  },
  {
   "cell_type": "code",
   "execution_count": 44,
   "id": "c993f032",
   "metadata": {},
   "outputs": [
    {
     "name": "stdout",
     "output_type": "stream",
     "text": [
      "1 \n",
      "2 3 \n",
      "4 5 6 \n",
      "7 8 9 10 \n"
     ]
    }
   ],
   "source": [
    "# Initialize the starting number\n",
    "num = 1\n",
    "\n",
    "# Outer loop for each row (from 1 to 4)\n",
    "for row in range(1, 5):\n",
    "    # Inner loop to print numbers in each row\n",
    "    for col in range(row):\n",
    "        print(num, end=' ')\n",
    "        num += 1  # Increment the number\n",
    "    print()  # Move to the next line\n"
   ]
  }
 ],
 "metadata": {
  "kernelspec": {
   "display_name": "Python 3 (ipykernel)",
   "language": "python",
   "name": "python3"
  },
  "language_info": {
   "codemirror_mode": {
    "name": "ipython",
    "version": 3
   },
   "file_extension": ".py",
   "mimetype": "text/x-python",
   "name": "python",
   "nbconvert_exporter": "python",
   "pygments_lexer": "ipython3",
   "version": "3.11.4"
  }
 },
 "nbformat": 4,
 "nbformat_minor": 5
}
