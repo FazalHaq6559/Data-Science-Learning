{
 "cells": [
  {
   "cell_type": "markdown",
   "id": "5f1371b8",
   "metadata": {},
   "source": [
    "# Python Programming \n",
    "📅 **Date:** 17-07-2025  \n",
    "📍 **Day:** 03\n",
    "\n",
    "📘 **Topic:**  input(), Oprators (arthmetic, logical, comparison, assigment, identical,   membership, bitwise)\n",
    "---\n"
   ]
  },
  {
   "cell_type": "markdown",
   "id": "fa0828fb",
   "metadata": {},
   "source": [
    "### 1. input() Function\n",
    "<b>1.Write a Python program that asks the user for their name and age, then prints a message like: \"Hello Alice, you are 25 years old.\"\n",
    "\n",
    "\n",
    "\n"
   ]
  },
  {
   "cell_type": "code",
   "execution_count": 1,
   "id": "3f8ecbe0",
   "metadata": {},
   "outputs": [
    {
     "name": "stdout",
     "output_type": "stream",
     "text": [
      "Enter your nameAlice\n",
      "Enter your age25\n",
      "Hello Alice, you are 25 years old\n"
     ]
    }
   ],
   "source": [
    "name = input(\"Enter your name\")\n",
    "age = input(\"Enter your age\")\n",
    "\n",
    "print(f\"Hello {name}, you are {age} years old\")"
   ]
  },
  {
   "cell_type": "markdown",
   "id": "3f9ddad7",
   "metadata": {},
   "source": [
    "<b>2.What is the data type returned by the input() function in Python?\n",
    "\n",
    "The data type return by the input() function is <b>\"string\"\n",
    "\n"
   ]
  },
  {
   "cell_type": "markdown",
   "id": "db6f755a",
   "metadata": {},
   "source": [
    "<b>3.How would you get a number from the user using input() and perform addition with another number?"
   ]
  },
  {
   "cell_type": "code",
   "execution_count": 2,
   "id": "f15e42f6",
   "metadata": {},
   "outputs": [
    {
     "name": "stdout",
     "output_type": "stream",
     "text": [
      "Enter a number : 12\n",
      "12 + 10 = 22\n"
     ]
    }
   ],
   "source": [
    "# Step 1:\n",
    "#I will assign input() function to a varible for example number_1 for storing the input from user, Inside the input \n",
    "# function i will specify what to enter.\n",
    "\n",
    "number_1 = int(input('Enter a number : '))# int function specifies data type input variable, by default it is string \n",
    "\n",
    "# Step 2:\n",
    "# I will assign the second number to varible \n",
    "number_2 = 10\n",
    "\n",
    "# 'result' for storing the operation results\n",
    "result = number_1 + number_2\n",
    "\n",
    "# at last i can print result \n",
    "print(f\"{number_1} + {number_2} = {result}\")\n",
    "\n"
   ]
  },
  {
   "cell_type": "markdown",
   "id": "6f9cfc5d",
   "metadata": {},
   "source": [
    "### 2. Arithmetic Operators\n",
    "\n",
    "<b>4.What is the output of the following code?\n",
    "\n",
    "    print(10 + 3 * 2)\n"
   ]
  },
  {
   "cell_type": "code",
   "execution_count": 3,
   "id": "d9ac799e",
   "metadata": {},
   "outputs": [
    {
     "name": "stdout",
     "output_type": "stream",
     "text": [
      "16\n"
     ]
    }
   ],
   "source": [
    "# The ouput of the following code will be 16 \n",
    "# 3 * 2 will be evaluated first because of its high precedence  \n",
    "# than 10 + 6 will be evaluated \n",
    "\n",
    "print(10 + 3 * 2)"
   ]
  },
  {
   "cell_type": "markdown",
   "id": "ac726650",
   "metadata": {},
   "source": [
    "<b>5.Write a program to take two numbers from the user and display their sum, difference, product, quotient, and remainder.\n"
   ]
  },
  {
   "cell_type": "code",
   "execution_count": 4,
   "id": "21d28dac",
   "metadata": {},
   "outputs": [
    {
     "name": "stdout",
     "output_type": "stream",
     "text": [
      "Enter first number : 10\n",
      "Enter second number : 23\n",
      "Sum :  33\n",
      "Different :  -13\n",
      "Product :  230\n",
      "Quotient :  0.43478260869565216\n",
      "Remainder :  0\n"
     ]
    }
   ],
   "source": [
    "num_1 = int(input(\"Enter first number : \"))\n",
    "num_2 = int(input(\"Enter second number : \"))\n",
    "\n",
    "print(\"Sum : \" , num_1 + num_2)\n",
    "print(\"Different : \", num_1 - num_2 )\n",
    "print(\"Product : \", num_1 * num_2)\n",
    "print(\"Quotient : \", num_1 / num_2 )\n",
    "print(\"Remainder : \", num_2 % num_2 )\n"
   ]
  },
  {
   "cell_type": "markdown",
   "id": "f23a7888",
   "metadata": {},
   "source": [
    "### 3. Comparison Operators\n",
    "\n",
    "<b>6.What will the following expression return?\n",
    "15 > 10 and 10 < 5"
   ]
  },
  {
   "cell_type": "markdown",
   "id": "a4d69539",
   "metadata": {},
   "source": [
    "False\n",
    "\n",
    "(Explanation: First part is True, second is False; so overall False)\n",
    "\n",
    "AND (and): Returns True if both conditions are true.\n"
   ]
  },
  {
   "cell_type": "markdown",
   "id": "597e2d04",
   "metadata": {},
   "source": [
    "<b>7.Write a Python program that compares two user-input numbers and prints whether they are equal, or which one is greater.\n"
   ]
  },
  {
   "cell_type": "code",
   "execution_count": 5,
   "id": "0a34afd7",
   "metadata": {},
   "outputs": [
    {
     "name": "stdout",
     "output_type": "stream",
     "text": [
      "Enter first number : 12\n",
      "Enter second number : 19\n",
      "Second number is greater than the first\n"
     ]
    }
   ],
   "source": [
    "num_1 = int(input(\"Enter first number : \"))\n",
    "num_2 = int(input(\"Enter second number : \"))\n",
    "\n",
    "if num_1 == num_2: #(==): Checks if two values are equal.\n",
    "    print(\"Boyth numbers are equal\")\n",
    "elif num_1 > num_2: #Checks if the left value is greater than the right value.\n",
    "    print(\"First number is greater than the second\")\n",
    "else: \n",
    "    print(\"Second number is greater than the first\")"
   ]
  },
  {
   "cell_type": "markdown",
   "id": "c8dc0e2c",
   "metadata": {},
   "source": [
    "### 4. Assignment Operators\n",
    "<b>8.Given the code below, what will be the value of a?\n",
    "    \n",
    "\n",
    "    a = 5  \n",
    "\n",
    "    a += 3  \n",
    "\n",
    "    a *= 2  \n",
    "\n"
   ]
  },
  {
   "cell_type": "markdown",
   "id": "8e4d54d0",
   "metadata": {},
   "source": [
    "a = 5 --- 5 stored in a \n",
    "\n",
    "a += 3 --- a = a + 3 = 5 + 3 = 8 \n",
    " \n",
    "a *= 2 --- a = a * 2 = 8 * 2 = 16 \n",
    " \n",
    "So the value of a is 16 "
   ]
  },
  {
   "cell_type": "markdown",
   "id": "ddd681b6",
   "metadata": {},
   "source": [
    "<b>9.Write a program that takes a number and increases it by 10 using an assignment operator.\n"
   ]
  },
  {
   "cell_type": "code",
   "execution_count": 6,
   "id": "e0c18270",
   "metadata": {},
   "outputs": [
    {
     "name": "stdout",
     "output_type": "stream",
     "text": [
      "Enter  a number : 12\n",
      "22\n"
     ]
    }
   ],
   "source": [
    "num = int(input(\"Enter  a number : \"))\n",
    "\n",
    "# increment\n",
    "num += 10 \n",
    "\n",
    "print(num)"
   ]
  },
  {
   "cell_type": "markdown",
   "id": "ccff086e",
   "metadata": {},
   "source": [
    "### 5. Logical Operators\n",
    "<b>10.What is the output of this code?\n",
    "\n",
    "x = 5 \n",
    "\n",
    "print(x > 3 and x < 10)"
   ]
  },
  {
   "cell_type": "markdown",
   "id": "98980d44",
   "metadata": {},
   "source": [
    "x > 3 --- 5 > 3 --- True \n",
    "\n",
    "x < 10 --- 5 < 10 --- True \n",
    "\n",
    "True and True = True \n",
    "\n",
    "(and): Returns True if both conditions are true. \n",
    "    \n",
    "True will be the output."
   ]
  },
  {
   "cell_type": "markdown",
   "id": "4df83851",
   "metadata": {},
   "source": [
    "<b>11.How does the or operator differ from the and operator in terms of output?"
   ]
  },
  {
   "cell_type": "markdown",
   "id": "02508832",
   "metadata": {},
   "source": [
    "<b>AND (and):</b> Returns True if both conditions are true.\n",
    "\n",
    "<b>OR (or):</b> Returns True if at least one condition is true."
   ]
  },
  {
   "cell_type": "markdown",
   "id": "db3595fe",
   "metadata": {},
   "source": [
    "### 6. Identity Operators (is, is not)\n",
    "<b>12.What is the difference between == and is in Python?"
   ]
  },
  {
   "cell_type": "markdown",
   "id": "24a50628",
   "metadata": {},
   "source": [
    "<b>== :</b> compares values\n",
    "\n",
    "<b>is :</b> compares identities (memory locations)"
   ]
  },
  {
   "cell_type": "markdown",
   "id": "9448fba8",
   "metadata": {},
   "source": [
    "<b> 13.What will the following code output and why?\n",
    "\n",
    "x = [1, 2, 3]  \n",
    "y = [1, 2, 3]  \n",
    "print(x == y) \n",
    "print(x is y)  \n"
   ]
  },
  {
   "cell_type": "code",
   "execution_count": 7,
   "id": "ee2938fd",
   "metadata": {},
   "outputs": [
    {
     "name": "stdout",
     "output_type": "stream",
     "text": [
      "True\n",
      "False\n"
     ]
    }
   ],
   "source": [
    "x = [1, 2, 3]  \n",
    "y = [1, 2, 3]  \n",
    "print(x == y)  # True (Values are same)\n",
    "print(x is y)  # False (different objects in memory)\n"
   ]
  },
  {
   "cell_type": "markdown",
   "id": "db21d0e4",
   "metadata": {},
   "source": [
    "### 7. Membership Operators (in, not in)\n",
    "<b>14.Write a Python program that checks if the letter 'a' is present in the word 'banana'.\n",
    "\n",
    "\n"
   ]
  },
  {
   "cell_type": "code",
   "execution_count": 8,
   "id": "612eff76",
   "metadata": {},
   "outputs": [
    {
     "data": {
      "text/plain": [
       "True"
      ]
     },
     "execution_count": 8,
     "metadata": {},
     "output_type": "execute_result"
    }
   ],
   "source": [
    "\"a\" in \"banana\""
   ]
  },
  {
   "cell_type": "markdown",
   "id": "576a9af6",
   "metadata": {},
   "source": [
    "### 8. Bitwise Operators\n",
    "<b>15.What is the result of the bitwise AND operation between 5 and 3?\n",
    "(Hint: Convert to binary first)"
   ]
  },
  {
   "cell_type": "markdown",
   "id": "e72597b3",
   "metadata": {},
   "source": [
    "Binary :\n",
    "5 = 1010\n",
    "3 = 0110\n",
    "\n",
    "Bitwise AND \n",
    "\n",
    "1010 AND 0110 = 0010 \n",
    "\n",
    "0010 is 1 in decimal"
   ]
  }
 ],
 "metadata": {
  "kernelspec": {
   "display_name": "Python 3 (ipykernel)",
   "language": "python",
   "name": "python3"
  },
  "language_info": {
   "codemirror_mode": {
    "name": "ipython",
    "version": 3
   },
   "file_extension": ".py",
   "mimetype": "text/x-python",
   "name": "python",
   "nbconvert_exporter": "python",
   "pygments_lexer": "ipython3",
   "version": "3.11.4"
  }
 },
 "nbformat": 4,
 "nbformat_minor": 5
}
