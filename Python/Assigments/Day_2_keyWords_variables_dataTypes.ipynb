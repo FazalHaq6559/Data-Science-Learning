{
 "cells": [
  {
   "cell_type": "markdown",
   "id": "dde3b3ae",
   "metadata": {},
   "source": [
    "# Python Programming \n",
    "📅 **Date:** 16-07-2025  \n",
    "📍 **Day:** 02\n",
    "\n",
    "📘 **Topic:** Variables, Keywords, and Data Types\n",
    "---\n"
   ]
  },
  {
   "cell_type": "markdown",
   "id": "6a252842",
   "metadata": {},
   "source": [
    "### 1–5: Variables"
   ]
  },
  {
   "cell_type": "markdown",
   "id": "26dcf79e",
   "metadata": {},
   "source": [
    "<b>Q1. Write a Python program to assign your name to a variable and print it."
   ]
  },
  {
   "cell_type": "code",
   "execution_count": 3,
   "id": "c3e4dad8",
   "metadata": {},
   "outputs": [
    {
     "name": "stdout",
     "output_type": "stream",
     "text": [
      "Fazal Haq\n"
     ]
    }
   ],
   "source": [
    "# Assigning Name(string) to varible 'name' \n",
    "name = 'Fazal Haq'\n",
    "\n",
    "# printing the name \n",
    "print(name) # \"name\" is variable name, containig string value \"Fazal Haq\"\n"
   ]
  },
  {
   "cell_type": "markdown",
   "id": "1436028d",
   "metadata": {},
   "source": [
    "<b>Q2. Swap the values of two variables a = 5 and b = 10 and print them."
   ]
  },
  {
   "cell_type": "code",
   "execution_count": 12,
   "id": "f17fb9c8",
   "metadata": {},
   "outputs": [
    {
     "name": "stdout",
     "output_type": "stream",
     "text": [
      "Before swapping: a: 5 b: 10\n",
      "after swapping: a: 10 b: 5\n"
     ]
    }
   ],
   "source": [
    "# method 1: Using temporary variable\n",
    "\n",
    "# Assigning values to varibales \n",
    "a = 5 # var a containig 5\n",
    "b = 10 # var b containg 10 \n",
    "\n",
    "print('Before swapping:', 'a:',a, 'b:',b)\n",
    "temp = a # storing value of 'a' in a temp var \n",
    "\n",
    "# swaping\n",
    "a = b # now, 'a' containig value 10\n",
    "b = temp # b now containig value of temp variable. if we do not store a in temp, value of 'a' will be lost\n",
    "\n",
    "print('after swapping:', 'a:',a, 'b:',b)\n"
   ]
  },
  {
   "cell_type": "code",
   "execution_count": 15,
   "id": "9ebf84dd",
   "metadata": {},
   "outputs": [
    {
     "name": "stdout",
     "output_type": "stream",
     "text": [
      "Before swapping: a: 5 b: 10\n",
      "After Swaping: a: 10 b: 5\n"
     ]
    }
   ],
   "source": [
    "# Method 2: pythonic way \n",
    "\n",
    "a , b = 5 , 10 # in python, we can assign multiple values to mutliple variables in a single line separated by comma ','\n",
    "\n",
    "print('Before swapping:', 'a:',a, 'b:',b)\n",
    "\n",
    "# Swaping \n",
    "\n",
    "a, b = b, a # No need to store value in temp var \n",
    "\n",
    "print('After Swaping:', 'a:',a, 'b:',b)\n"
   ]
  },
  {
   "cell_type": "markdown",
   "id": "d850e45f",
   "metadata": {},
   "source": [
    "<b>Q3. Assign values to three variables in a single line and print them."
   ]
  },
  {
   "cell_type": "code",
   "execution_count": 16,
   "id": "9748ae68",
   "metadata": {},
   "outputs": [
    {
     "name": "stdout",
     "output_type": "stream",
     "text": [
      "Fazal Haq \t 25 \t AB+\n"
     ]
    }
   ],
   "source": [
    "name , age ,  blood_group = 'Fazal Haq', 25 , 'AB+'\n",
    "\n",
    "print(name,'\\t', age, '\\t', blood_group)"
   ]
  },
  {
   "cell_type": "markdown",
   "id": "ba2f0f28",
   "metadata": {},
   "source": [
    "<b>Q4. What will be the output of the following code?\n",
    "x = 10  \n",
    "y = x + 5  \n",
    "print(y)\n"
   ]
  },
  {
   "cell_type": "markdown",
   "id": "83bcb876",
   "metadata": {},
   "source": [
    "Output Expalantion:\n",
    "\n",
    "x = 10 - Assigned 10 to var x \n",
    "\n",
    "y = x + 10 - Add 10 to x(10) and store it in var y = 20\n",
    "\n",
    "print(y) - display y on screen \n",
    "\n",
    "So, the output is 20 \n"
   ]
  },
  {
   "cell_type": "markdown",
   "id": "255a063c",
   "metadata": {},
   "source": [
    "<b>Q5. Take a user's name and age as input and print them in a single line using formatted strings"
   ]
  },
  {
   "cell_type": "code",
   "execution_count": 19,
   "id": "5ae1daec",
   "metadata": {},
   "outputs": [
    {
     "name": "stdout",
     "output_type": "stream",
     "text": [
      "Enter your user name :Fazal\n",
      "Enter your age : 25\n",
      "Name :  Fazal Haq \n",
      "age :  25\n"
     ]
    }
   ],
   "source": [
    "user_name = input('Enter your user name :' ) \n",
    "age = input('Enter your age : ')\n",
    "\n",
    "print('Name : ', name , '\\nage : ' , age)"
   ]
  },
  {
   "cell_type": "markdown",
   "id": "faa8e79b",
   "metadata": {},
   "source": [
    "### 6–10: Keywords"
   ]
  },
  {
   "cell_type": "markdown",
   "id": "1218ed6c",
   "metadata": {},
   "source": [
    "<b>Q6. What are keywords in Python? List any 5 Python keywords."
   ]
  },
  {
   "cell_type": "markdown",
   "id": "31fc702e",
   "metadata": {},
   "source": [
    "Keywords are reserved words in Python that have special meaning and cannot be used as variable names.\n",
    "\n",
    "Example keywords: if, else, while, True, def"
   ]
  },
  {
   "cell_type": "markdown",
   "id": "8d02e0dc",
   "metadata": {},
   "source": [
    "<b>Q7. Is class, def, or for a variable name? Why or why not?"
   ]
  },
  {
   "cell_type": "markdown",
   "id": "f6500c81",
   "metadata": {},
   "source": [
    "No, because they are Python keywords and reserved for specific syntax in the language."
   ]
  },
  {
   "cell_type": "markdown",
   "id": "3dfcb3d2",
   "metadata": {},
   "source": [
    "<b>Q8. Write a program using if, else, and elif keywords to check if a number is positive, negative, or zero."
   ]
  },
  {
   "cell_type": "code",
   "execution_count": 23,
   "id": "ddb78953",
   "metadata": {},
   "outputs": [
    {
     "name": "stdout",
     "output_type": "stream",
     "text": [
      "Ener a number to check: -23\n",
      "Negative\n"
     ]
    }
   ],
   "source": [
    "num = int(input('Ener a number to check: ')) # int specefies the input as integer value\n",
    "\n",
    "if num > 0:\n",
    "    print('Positive')\n",
    "elif num < 0: \n",
    "    print('Negative')\n",
    "else:\n",
    "    print('Zero')\n"
   ]
  },
  {
   "cell_type": "markdown",
   "id": "82dcadaa",
   "metadata": {},
   "source": [
    "<b>Q9. Identify the keyword in this code:\n",
    "    \n",
    "def greet():\n",
    "    \n",
    "    print(\"Hello World\")"
   ]
  },
  {
   "cell_type": "markdown",
   "id": "58bbe724",
   "metadata": {},
   "source": [
    "Ans: def is keyword used to define a function called greet."
   ]
  },
  {
   "cell_type": "markdown",
   "id": "21223895",
   "metadata": {},
   "source": [
    "<b>Q10. Write a Python program that uses the True and False keywords in a condition."
   ]
  },
  {
   "cell_type": "code",
   "execution_count": 27,
   "id": "74beab48",
   "metadata": {},
   "outputs": [
    {
     "name": "stdout",
     "output_type": "stream",
     "text": [
      "Eat Meal\n"
     ]
    }
   ],
   "source": [
    "is_Hungry = True\n",
    "\n",
    "if is_Hungry:\n",
    "    print(\"Eat Meal\")\n",
    "else:\n",
    "    print(\"Drink water\")"
   ]
  },
  {
   "cell_type": "markdown",
   "id": "c9c96366",
   "metadata": {},
   "source": [
    "### 11–15: Data Types"
   ]
  },
  {
   "cell_type": "markdown",
   "id": "3462b39e",
   "metadata": {},
   "source": [
    "<b>Q11. Declare variables of the following types and print them: integer, float, string, boolean, list.\n"
   ]
  },
  {
   "cell_type": "code",
   "execution_count": 31,
   "id": "453c73f8",
   "metadata": {},
   "outputs": [
    {
     "name": "stdout",
     "output_type": "stream",
     "text": [
      "Studen name :  Fazal\n",
      "Student age :  25\n",
      "Passed with Cgpa = 3.09 with marks per subject [72, 68, 81]\n"
     ]
    }
   ],
   "source": [
    "std_name = 'Fazal' # string\n",
    "std_age = 25 # integer\n",
    "std_cpga = 3.09 # float\n",
    "is_pass = True # boolean \n",
    "marks_per_subject = [72,68,81] # list \n",
    "\n",
    "print('Studen name : ', std_name )\n",
    "print('Student age : ', std_age)\n",
    "\n",
    "if is_pass:\n",
    "    print(f'Passed Cgpa = {std_cpga} and marks per subject {marks_per_subject}' )\n",
    "\n",
    "\n"
   ]
  },
  {
   "cell_type": "markdown",
   "id": "4d356ea4",
   "metadata": {},
   "source": [
    "<b>Q12. What will be the output and data type of this code?\n",
    "\n",
    "    x = 5.0 + 3  \n",
    "\n",
    "    print(x, type(x))"
   ]
  },
  {
   "cell_type": "markdown",
   "id": "a18455d4",
   "metadata": {},
   "source": [
    "Output:\n",
    "\n",
    "x - holds float value of 5.0 + 3 = 5.3\n",
    "\n",
    "so the ouput will be \n",
    "\n",
    "5.3 <class 'float'>"
   ]
  },
  {
   "cell_type": "markdown",
   "id": "55b4470a",
   "metadata": {},
   "source": [
    "<b>Q13. Convert the string \"123\" to an integer and perform addition with 7.\n"
   ]
  },
  {
   "cell_type": "code",
   "execution_count": 38,
   "id": "ebeaad3e",
   "metadata": {},
   "outputs": [
    {
     "name": "stdout",
     "output_type": "stream",
     "text": [
      "130\n"
     ]
    }
   ],
   "source": [
    "num = '123' # string\n",
    "num = int(num) + 7 # converted ino integer and added 7 \n",
    "\n",
    "print(num)"
   ]
  },
  {
   "cell_type": "markdown",
   "id": "fe05a7dc",
   "metadata": {},
   "source": [
    "<b>Q14. Create a variable a = 5 and check if it's of type int.\n"
   ]
  },
  {
   "cell_type": "code",
   "execution_count": 39,
   "id": "c9eb6c73",
   "metadata": {},
   "outputs": [
    {
     "name": "stdout",
     "output_type": "stream",
     "text": [
      "Varibale type is integer\n"
     ]
    }
   ],
   "source": [
    "var = 5 \n",
    "\n",
    "if type(var) == int:\n",
    "    print('Varibale type is integer')\n"
   ]
  },
  {
   "cell_type": "markdown",
   "id": "04a417e2",
   "metadata": {},
   "source": [
    "<b>Q15. Write a program to take two numbers as input from the user, add them, and print the result with proper type conversion."
   ]
  },
  {
   "cell_type": "code",
   "execution_count": 40,
   "id": "05d1f158",
   "metadata": {},
   "outputs": [
    {
     "name": "stdout",
     "output_type": "stream",
     "text": [
      "Enter first number: 5\n",
      "Enter second number: 7\n",
      "Sum: 12\n"
     ]
    }
   ],
   "source": [
    "num1 = input(\"Enter first number: \")\n",
    "num2 = input(\"Enter second number: \")\n",
    "sum_result = int(num1) + int(num2)\n",
    "print(\"Sum:\", sum_result)"
   ]
  }
 ],
 "metadata": {
  "kernelspec": {
   "display_name": "Python 3 (ipykernel)",
   "language": "python",
   "name": "python3"
  },
  "language_info": {
   "codemirror_mode": {
    "name": "ipython",
    "version": 3
   },
   "file_extension": ".py",
   "mimetype": "text/x-python",
   "name": "python",
   "nbconvert_exporter": "python",
   "pygments_lexer": "ipython3",
   "version": "3.11.4"
  }
 },
 "nbformat": 4,
 "nbformat_minor": 5
}
